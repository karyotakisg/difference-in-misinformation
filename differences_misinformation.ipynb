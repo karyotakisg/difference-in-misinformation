{
 "cells": [
  {
   "cell_type": "markdown",
   "metadata": {},
   "source": [
    "# Social Media Sanctions and Misinformation Sharing"
   ]
  },
  {
   "cell_type": "markdown",
   "metadata": {},
   "source": [
    "To start with, we need to import the necessary libraries"
   ]
  },
  {
   "cell_type": "code",
   "execution_count": 165,
   "metadata": {},
   "outputs": [],
   "source": [
    "import pandas as pd\n",
    "from scipy.stats import chi2_contingency, ttest_ind\n",
    "from scipy.stats.mstats import winsorize\n",
    "import matplotlib.pyplot as plt\n",
    "import seaborn as sns\n",
    "from sklearn.preprocessing import StandardScaler\n",
    "import numpy as np\n",
    "import statsmodels.formula.api as smf\n",
    "from sklearn.metrics import roc_auc_score\n",
    "from sklearn.decomposition import PCA\n",
    "from statsmodels.sandbox.stats.multicomp import multipletests"
   ]
  },
  {
   "cell_type": "markdown",
   "metadata": {},
   "source": [
    "## Twitter Suspensions after the 2020 Election"
   ]
  },
  {
   "cell_type": "markdown",
   "metadata": {},
   "source": [
    "To explain twiter suspensions, we read the csv and select the columns that will be used for the crosstabulation."
   ]
  },
  {
   "cell_type": "code",
   "execution_count": 166,
   "metadata": {},
   "outputs": [],
   "source": [
    "data = pd.read_csv('mosleh_et_al_data.csv')\n",
    "hastags_and_suspension = data[['politics_hashtag','suspended']]"
   ]
  },
  {
   "cell_type": "code",
   "execution_count": 167,
   "metadata": {},
   "outputs": [
    {
     "data": {
      "text/html": [
       "<div>\n",
       "<style scoped>\n",
       "    .dataframe tbody tr th:only-of-type {\n",
       "        vertical-align: middle;\n",
       "    }\n",
       "\n",
       "    .dataframe tbody tr th {\n",
       "        vertical-align: top;\n",
       "    }\n",
       "\n",
       "    .dataframe thead th {\n",
       "        text-align: right;\n",
       "    }\n",
       "</style>\n",
       "<table border=\"1\" class=\"dataframe\">\n",
       "  <thead>\n",
       "    <tr style=\"text-align: right;\">\n",
       "      <th>suspended</th>\n",
       "      <th>0</th>\n",
       "      <th>1</th>\n",
       "    </tr>\n",
       "    <tr>\n",
       "      <th>politics_hashtag</th>\n",
       "      <th></th>\n",
       "      <th></th>\n",
       "    </tr>\n",
       "  </thead>\n",
       "  <tbody>\n",
       "    <tr>\n",
       "      <th>0</th>\n",
       "      <td>4295</td>\n",
       "      <td>200</td>\n",
       "    </tr>\n",
       "    <tr>\n",
       "      <th>1</th>\n",
       "      <td>3623</td>\n",
       "      <td>882</td>\n",
       "    </tr>\n",
       "  </tbody>\n",
       "</table>\n",
       "</div>"
      ],
      "text/plain": [
       "suspended            0    1\n",
       "politics_hashtag           \n",
       "0                 4295  200\n",
       "1                 3623  882"
      ]
     },
     "execution_count": 167,
     "metadata": {},
     "output_type": "execute_result"
    }
   ],
   "source": [
    "crosstab = pd.crosstab(hastags_and_suspension['politics_hashtag'], hastags_and_suspension['suspended'])\n",
    "crosstab"
   ]
  },
  {
   "cell_type": "code",
   "execution_count": 168,
   "metadata": {},
   "outputs": [
    {
     "name": "stdout",
     "output_type": "stream",
     "text": [
      "4.4\n"
     ]
    }
   ],
   "source": [
    "republicans_ratio = crosstab.loc[1,1]/crosstab.loc[1].sum()\n",
    "democrats_ratio = crosstab.loc[0,1]/crosstab.loc[0].sum()\n",
    "print(f'{republicans_ratio /democrats_ratio:.1f}')"
   ]
  },
  {
   "cell_type": "markdown",
   "metadata": {},
   "source": [
    "From the crosstabulation emerges the interesting fact that accounts that shared `#Trump2020` during the election were about 4.4 times more likely to be subsequently suspended than the accounts that shared `#VoteBidenHarris2020` "
   ]
  },
  {
   "cell_type": "code",
   "execution_count": 169,
   "metadata": {},
   "outputs": [
    {
     "name": "stdout",
     "output_type": "stream",
     "text": [
      "Chi-Square Statistic: 485.46706126582285\n",
      "P-Value: 1.3808204811294585e-107\n",
      "Degrees of Freedom: 1\n",
      "Expected Frequencies:\n",
      "[[3954.60111111  540.39888889]\n",
      " [3963.39888889  541.60111111]]\n"
     ]
    }
   ],
   "source": [
    "chi2, p, dof, expected = chi2_contingency(crosstab)\n",
    "print(\"Chi-Square Statistic:\", chi2)\n",
    "print(\"P-Value:\", p)\n",
    "print(\"Degrees of Freedom:\", dof)\n",
    "print(\"Expected Frequencies:\")\n",
    "print(expected)"
   ]
  },
  {
   "cell_type": "markdown",
   "metadata": {},
   "source": [
    "* Ho: There is no association between the use of politics_hashtag (#Trump2020 vs. #VoteBidenHarris2020) and account suspension status\n",
    "* H1: There is an association between the use of politics_hashtag and account suspension status."
   ]
  },
  {
   "cell_type": "markdown",
   "metadata": {},
   "source": [
    "Since p-value << 0.05, we reject the null hypothesis. That can be seen also from the fact that the observed frequencies are very different from the expected frequencies, meaning the values we expect if variables were independent (540 instaed of 200 and 541 instead of 882). Therefore, we could conclude that political party interacts with the suspension of the account."
   ]
  },
  {
   "cell_type": "markdown",
   "metadata": {},
   "source": [
    "## Distributions of Relative Frequency of Low Quality"
   ]
  },
  {
   "cell_type": "markdown",
   "metadata": {},
   "source": [
    "Let's examine the distributions of low-quality sharing as determined by eight professional fact-checkers (column `lowqual_pr2019_fc`), grouped by `politics_hashtag`. "
   ]
  },
  {
   "cell_type": "code",
   "execution_count": 170,
   "metadata": {},
   "outputs": [],
   "source": [
    "factcheckers_lowquality_and_hastags = data[['lowqual_pr2019_fc','politics_hashtag']]\n",
    "factcheckers_lowquality_and_hastags.loc[:, 'lowqual_pr2019_fc'] = StandardScaler().fit_transform(factcheckers_lowquality_and_hastags[['lowqual_pr2019_fc']])"
   ]
  },
  {
   "cell_type": "code",
   "execution_count": 171,
   "metadata": {},
   "outputs": [
    {
     "name": "stderr",
     "output_type": "stream",
     "text": [
      "C:\\Users\\karyo\\AppData\\Local\\Packages\\PythonSoftwareFoundation.Python.3.10_qbz5n2kfra8p0\\LocalCache\\local-packages\\Python310\\site-packages\\seaborn\\_oldcore.py:1119: FutureWarning: use_inf_as_na option is deprecated and will be removed in a future version. Convert inf values to NaN before operating instead.\n",
      "  with pd.option_context('mode.use_inf_as_na', True):\n",
      "C:\\Users\\karyo\\AppData\\Local\\Packages\\PythonSoftwareFoundation.Python.3.10_qbz5n2kfra8p0\\LocalCache\\local-packages\\Python310\\site-packages\\seaborn\\_oldcore.py:1075: FutureWarning: When grouping with a length-1 list-like, you will need to pass a length-1 tuple to get_group in a future version of pandas. Pass `(name,)` instead of `name` to silence this warning.\n",
      "  data_subset = grouped_data.get_group(pd_key)\n"
     ]
    },
    {
     "data": {
      "image/png": "[encoded data removed]",
      "text/plain": [
       "<Figure size 723.611x400 with 1 Axes>"
      ]
     },
     "metadata": {},
     "output_type": "display_data"
    }
   ],
   "source": [
    "category_colors = {\n",
    "    0: \"blue\",  \n",
    "    1: \"red\"    \n",
    "}\n",
    "\n",
    "# Create the displot\n",
    "g = sns.displot(\n",
    "    data=factcheckers_lowquality_and_hastags, \n",
    "    x='lowqual_pr2019_fc', \n",
    "    hue='politics_hashtag', \n",
    "    kind='kde', \n",
    "    fill=True, \n",
    "    height=4, \n",
    "    aspect=1.5, \n",
    "    palette=category_colors\n",
    ")\n",
    "\n",
    "# Set labels\n",
    "plt.xlabel('Low-Quality News Sharing')\n",
    "plt.ylabel('Frequency')\n",
    "\n",
    "new_labels = ['Biden Hashtags', 'Trump Hashtags']\n",
    "for text, new_label in zip(g.legend.texts, new_labels):\n",
    "    text.set_text(new_label)\n",
    "g.legend.set_title(\"People who shared\")\n",
    "plt.show()\n"
   ]
  },
  {
   "cell_type": "markdown",
   "metadata": {},
   "source": [
    "We can now proceed to do the same with low-quality sharing as determined by crowdsourcing"
   ]
  },
  {
   "cell_type": "code",
   "execution_count": 172,
   "metadata": {},
   "outputs": [],
   "source": [
    "crowd_lowquality_and_hastags = data[['lowqual_pr2019_crowd','politics_hashtag']]\n",
    "crowd_lowquality_and_hastags.loc[:, 'lowqual_pr2019_crowd'] = StandardScaler().fit_transform(crowd_lowquality_and_hastags[['lowqual_pr2019_crowd']])"
   ]
  },
  {
   "cell_type": "code",
   "execution_count": 173,
   "metadata": {},
   "outputs": [
    {
     "name": "stderr",
     "output_type": "stream",
     "text": [
      "C:\\Users\\karyo\\AppData\\Local\\Packages\\PythonSoftwareFoundation.Python.3.10_qbz5n2kfra8p0\\LocalCache\\local-packages\\Python310\\site-packages\\seaborn\\_oldcore.py:1119: FutureWarning: use_inf_as_na option is deprecated and will be removed in a future version. Convert inf values to NaN before operating instead.\n",
      "  with pd.option_context('mode.use_inf_as_na', True):\n",
      "C:\\Users\\karyo\\AppData\\Local\\Packages\\PythonSoftwareFoundation.Python.3.10_qbz5n2kfra8p0\\LocalCache\\local-packages\\Python310\\site-packages\\seaborn\\_oldcore.py:1075: FutureWarning: When grouping with a length-1 list-like, you will need to pass a length-1 tuple to get_group in a future version of pandas. Pass `(name,)` instead of `name` to silence this warning.\n",
      "  data_subset = grouped_data.get_group(pd_key)\n"
     ]
    },
    {
     "data": {
      "image/png": "[encoded data removed]",
      "text/plain": [
       "<Figure size 723.611x400 with 1 Axes>"
      ]
     },
     "metadata": {},
     "output_type": "display_data"
    }
   ],
   "source": [
    "g = sns.displot(data=crowd_lowquality_and_hastags, x='lowqual_pr2019_crowd', hue='politics_hashtag', kind='kde',fill=True,  height=4, aspect=1.5, palette=category_colors)\n",
    "plt.xlabel('Low-Quality News Sharing')\n",
    "plt.ylabel('Frequency')\n",
    "new_labels = ['Biden Hashtags', 'Trump Hashtags']\n",
    "for text, new_label in zip(g.legend.texts, new_labels):\n",
    "    text.set_text(new_label)\n",
    "g.legend.set_title(\"People who shared\")\n",
    "plt.show()"
   ]
  },
  {
   "cell_type": "markdown",
   "metadata": {},
   "source": [
    "## Low-quality News Sharing on Twitter"
   ]
  },
  {
   "cell_type": "markdown",
   "metadata": {},
   "source": [
    "To examine low-quality news sharing on Twitter on a more quantitave manner we will use t-test. To do that, we need to approriately format our data to group 0 (democrats) and group 1 (republicans) for each column to be tested."
   ]
  },
  {
   "cell_type": "code",
   "execution_count": 174,
   "metadata": {},
   "outputs": [],
   "source": [
    "# Select relevant columns\n",
    "t_test_data = data[['politics_hashtag', 'lowqual_pr2019_fc', 'lowqual_afm', 'lowqual_mbfc', \n",
    "                    'lowqual_lasser2019', 'lowqual_pr2019_crowd', 'lowqual_pr2019_crowdrep']]\n",
    "\n",
    "# Separate data into two groups based on 'politics_hashtag'\n",
    "group_0 = t_test_data[t_test_data['politics_hashtag'] == 0]\n",
    "group_1 = t_test_data[t_test_data['politics_hashtag'] == 1]\n",
    "\n",
    "# Perform t-test for each column\n",
    "columns_to_test = ['lowqual_pr2019_fc', 'lowqual_afm', 'lowqual_mbfc', \n",
    "                   'lowqual_lasser2019', 'lowqual_pr2019_crowd', 'lowqual_pr2019_crowdrep']"
   ]
  },
  {
   "cell_type": "markdown",
   "metadata": {},
   "source": [
    "We will quantify the effect size of the t-test using Cohen's $d$ and Hedges' $g$"
   ]
  },
  {
   "cell_type": "code",
   "execution_count": 175,
   "metadata": {},
   "outputs": [],
   "source": [
    "def cohen_d(group1, group2):\n",
    "    diff = abs(group1.mean() - group2.mean())\n",
    "    n1, n2 = len(group1), len(group2)\n",
    "    s1_squared = np.var(group1, ddof=1)\n",
    "    s2_squared = np.var(group2, ddof=1)\n",
    "    pooled_var = (((n1 -1) * s1_squared + (n2 - 1) * s2_squared) / (n1 + n2 - 2)) ** 0.5\n",
    "    d = diff / pooled_var\n",
    "    return d\n",
    "\n",
    "def hedges_g(group1, group2,d):\n",
    "    n1, n2 = len(group1), len(group2)\n",
    "    return (1 - 3 / (4 * (n1 + n2) - 9)) * d"
   ]
  },
  {
   "cell_type": "markdown",
   "metadata": {},
   "source": [
    "* Hypothesis 0: The two groups have the same mean\n",
    "* Hypothesis 1: The two groups have different means"
   ]
  },
  {
   "cell_type": "code",
   "execution_count": 176,
   "metadata": {},
   "outputs": [
    {
     "data": {
      "text/html": [
       "<div>\n",
       "<style scoped>\n",
       "    .dataframe tbody tr th:only-of-type {\n",
       "        vertical-align: middle;\n",
       "    }\n",
       "\n",
       "    .dataframe tbody tr th {\n",
       "        vertical-align: top;\n",
       "    }\n",
       "\n",
       "    .dataframe thead th {\n",
       "        text-align: right;\n",
       "    }\n",
       "</style>\n",
       "<table border=\"1\" class=\"dataframe\">\n",
       "  <thead>\n",
       "    <tr style=\"text-align: right;\">\n",
       "      <th></th>\n",
       "      <th>Column</th>\n",
       "      <th>t_stat</th>\n",
       "      <th>p_value</th>\n",
       "      <th>Cohen's d</th>\n",
       "      <th>Hedges' g</th>\n",
       "    </tr>\n",
       "  </thead>\n",
       "  <tbody>\n",
       "    <tr>\n",
       "      <th>0</th>\n",
       "      <td>lowqual_pr2019_fc</td>\n",
       "      <td>119.2</td>\n",
       "      <td>0.00</td>\n",
       "      <td>2.52</td>\n",
       "      <td>2.52</td>\n",
       "    </tr>\n",
       "    <tr>\n",
       "      <th>1</th>\n",
       "      <td>lowqual_afm</td>\n",
       "      <td>102.7</td>\n",
       "      <td>0.00</td>\n",
       "      <td>2.16</td>\n",
       "      <td>2.16</td>\n",
       "    </tr>\n",
       "    <tr>\n",
       "      <th>2</th>\n",
       "      <td>lowqual_mbfc</td>\n",
       "      <td>97.6</td>\n",
       "      <td>0.00</td>\n",
       "      <td>2.06</td>\n",
       "      <td>2.06</td>\n",
       "    </tr>\n",
       "    <tr>\n",
       "      <th>3</th>\n",
       "      <td>lowqual_lasser2019</td>\n",
       "      <td>102.6</td>\n",
       "      <td>0.00</td>\n",
       "      <td>2.16</td>\n",
       "      <td>2.16</td>\n",
       "    </tr>\n",
       "    <tr>\n",
       "      <th>4</th>\n",
       "      <td>lowqual_pr2019_crowd</td>\n",
       "      <td>102.5</td>\n",
       "      <td>0.00</td>\n",
       "      <td>2.17</td>\n",
       "      <td>2.17</td>\n",
       "    </tr>\n",
       "    <tr>\n",
       "      <th>5</th>\n",
       "      <td>lowqual_pr2019_crowdrep</td>\n",
       "      <td>61.1</td>\n",
       "      <td>0.00</td>\n",
       "      <td>1.29</td>\n",
       "      <td>1.29</td>\n",
       "    </tr>\n",
       "  </tbody>\n",
       "</table>\n",
       "</div>"
      ],
      "text/plain": [
       "                    Column t_stat p_value Cohen's d Hedges' g\n",
       "0        lowqual_pr2019_fc  119.2    0.00      2.52      2.52\n",
       "1              lowqual_afm  102.7    0.00      2.16      2.16\n",
       "2             lowqual_mbfc   97.6    0.00      2.06      2.06\n",
       "3       lowqual_lasser2019  102.6    0.00      2.16      2.16\n",
       "4     lowqual_pr2019_crowd  102.5    0.00      2.17      2.17\n",
       "5  lowqual_pr2019_crowdrep   61.1    0.00      1.29      1.29"
      ]
     },
     "execution_count": 176,
     "metadata": {},
     "output_type": "execute_result"
    }
   ],
   "source": [
    "t_test_results = []\n",
    "for column in columns_to_test:\n",
    "    group_0_col = group_0.loc[:, column]\n",
    "    group_1_col = group_1.loc[:, column]\n",
    "    t_stat, p_value = ttest_ind(group_0_col, group_1_col, nan_policy='omit') \n",
    "    d = cohen_d(group_0_col, group_1_col)\n",
    "    g = hedges_g(group_0_col, group_1_col, d)\n",
    "    \n",
    "    t_test_results.append({\n",
    "        \"Column\": column,\n",
    "        \"t_stat\": f\"{abs(t_stat):.1f}\",\n",
    "        \"p_value\": f\"{p_value:.2f}\",\n",
    "        \"Cohen's d\": f\"{d:.2f}\",\n",
    "        \"Hedges' g\": f\"{g:.2f}\"\n",
    "    })\n",
    "\n",
    "results_df = pd.DataFrame(t_test_results)\n",
    "results_df"
   ]
  },
  {
   "cell_type": "markdown",
   "metadata": {},
   "source": [
    "All two-sample t-tests about the quality of news shared on Twitter, show that republicans are more prone to low-quality sources.  \n",
    "According to Cohen's $d$, the effect size of political party on the quality of news is huge ($d$ > 2). Even when the assessment of sites derives from republicans, the effect is still very large ($d$ > 1.2).  \n",
    "When using Hedges' $g$ to correct the bias of sample size, the interpretation is the same and the effect size is almost identical for all two-sample t-tests."
   ]
  },
  {
   "cell_type": "markdown",
   "metadata": {},
   "source": [
    "### Sharing Lower-quality News Sources and Conservative Ideology"
   ]
  },
  {
   "cell_type": "markdown",
   "metadata": {},
   "source": [
    "To see if there is a correlation between lower-quality news sources and conservative ideology, we will perform pairwise correlations between low-quality news sources and ideology metrics."
   ]
  },
  {
   "cell_type": "code",
   "execution_count": 177,
   "metadata": {},
   "outputs": [],
   "source": [
    "quality= data[['lowqual_pr2019_fc','lowqual_lasser2019', 'lowqual_mbfc', 'lowqual_afm', 'lowqual_pr2019_crowd','lowqual_pr2019_crowdrep']]\n",
    "politics = data[['politics_followed','politics_hashtag','politics_sites1','politics_sites2']]"
   ]
  },
  {
   "cell_type": "markdown",
   "metadata": {},
   "source": [
    "To create the heatmap we need to create a correlation matrix"
   ]
  },
  {
   "cell_type": "code",
   "execution_count": 178,
   "metadata": {},
   "outputs": [
    {
     "data": {
      "text/html": [
       "<div>\n",
       "<style scoped>\n",
       "    .dataframe tbody tr th:only-of-type {\n",
       "        vertical-align: middle;\n",
       "    }\n",
       "\n",
       "    .dataframe tbody tr th {\n",
       "        vertical-align: top;\n",
       "    }\n",
       "\n",
       "    .dataframe thead th {\n",
       "        text-align: right;\n",
       "    }\n",
       "</style>\n",
       "<table border=\"1\" class=\"dataframe\">\n",
       "  <thead>\n",
       "    <tr style=\"text-align: right;\">\n",
       "      <th></th>\n",
       "      <th>politics_followed</th>\n",
       "      <th>politics_hashtag</th>\n",
       "      <th>politics_sites1</th>\n",
       "      <th>politics_sites2</th>\n",
       "    </tr>\n",
       "  </thead>\n",
       "  <tbody>\n",
       "    <tr>\n",
       "      <th>lowqual_pr2019_fc</th>\n",
       "      <td>0.809501</td>\n",
       "      <td>0.783463</td>\n",
       "      <td>0.876237</td>\n",
       "      <td>0.854197</td>\n",
       "    </tr>\n",
       "    <tr>\n",
       "      <th>lowqual_lasser2019</th>\n",
       "      <td>0.777250</td>\n",
       "      <td>0.734398</td>\n",
       "      <td>0.835576</td>\n",
       "      <td>0.851794</td>\n",
       "    </tr>\n",
       "    <tr>\n",
       "      <th>lowqual_mbfc</th>\n",
       "      <td>0.748146</td>\n",
       "      <td>0.717101</td>\n",
       "      <td>0.774779</td>\n",
       "      <td>0.774266</td>\n",
       "    </tr>\n",
       "    <tr>\n",
       "      <th>lowqual_afm</th>\n",
       "      <td>0.768887</td>\n",
       "      <td>0.734562</td>\n",
       "      <td>0.845285</td>\n",
       "      <td>0.833632</td>\n",
       "    </tr>\n",
       "    <tr>\n",
       "      <th>lowqual_pr2019_crowd</th>\n",
       "      <td>0.754001</td>\n",
       "      <td>0.734856</td>\n",
       "      <td>0.811904</td>\n",
       "      <td>0.784861</td>\n",
       "    </tr>\n",
       "    <tr>\n",
       "      <th>lowqual_pr2019_crowdrep</th>\n",
       "      <td>0.540993</td>\n",
       "      <td>0.542505</td>\n",
       "      <td>0.576336</td>\n",
       "      <td>0.552613</td>\n",
       "    </tr>\n",
       "  </tbody>\n",
       "</table>\n",
       "</div>"
      ],
      "text/plain": [
       "                         politics_followed  politics_hashtag  politics_sites1  \\\n",
       "lowqual_pr2019_fc                 0.809501          0.783463         0.876237   \n",
       "lowqual_lasser2019                0.777250          0.734398         0.835576   \n",
       "lowqual_mbfc                      0.748146          0.717101         0.774779   \n",
       "lowqual_afm                       0.768887          0.734562         0.845285   \n",
       "lowqual_pr2019_crowd              0.754001          0.734856         0.811904   \n",
       "lowqual_pr2019_crowdrep           0.540993          0.542505         0.576336   \n",
       "\n",
       "                         politics_sites2  \n",
       "lowqual_pr2019_fc               0.854197  \n",
       "lowqual_lasser2019              0.851794  \n",
       "lowqual_mbfc                    0.774266  \n",
       "lowqual_afm                     0.833632  \n",
       "lowqual_pr2019_crowd            0.784861  \n",
       "lowqual_pr2019_crowdrep         0.552613  "
      ]
     },
     "execution_count": 178,
     "metadata": {},
     "output_type": "execute_result"
    }
   ],
   "source": [
    "table = pd.concat([quality,politics], axis=1)\n",
    "correlation_matrix = table.corr()\n",
    "correlation_matrix = correlation_matrix.loc[quality.columns, politics.columns]\n",
    "correlation_matrix"
   ]
  },
  {
   "cell_type": "markdown",
   "metadata": {},
   "source": [
    "Then, it is very straight-forwarard to visualize the results."
   ]
  },
  {
   "cell_type": "code",
   "execution_count": 179,
   "metadata": {},
   "outputs": [
    {
     "data": {
      "image/png": "[encoded data removed]",
      "text/plain": [
       "<Figure size 1000x600 with 2 Axes>"
      ]
     },
     "metadata": {},
     "output_type": "display_data"
    }
   ],
   "source": [
    "# Create the heatmap\n",
    "\n",
    "plt.figure(figsize=(10, 6))\n",
    "ax = sns.heatmap(\n",
    "    correlation_matrix, \n",
    "    annot=True, \n",
    "    cmap='crest', \n",
    "    fmt=\".2f\", \n",
    "    linewidths=0.5,\n",
    ")\n",
    "ax.set(xlabel=\"\", ylabel=\"\")\n",
    "\n",
    "plt.show()\n"
   ]
  },
  {
   "cell_type": "markdown",
   "metadata": {},
   "source": [
    "We can see that low quality of sourcers correlates to the political party, even when we measure by only the trustworthiness ratings or Republican laypeople."
   ]
  },
  {
   "cell_type": "markdown",
   "metadata": {},
   "source": [
    "## News Sharing Can Help Explain Suspension, Using Single Predictors"
   ]
  },
  {
   "cell_type": "markdown",
   "metadata": {},
   "source": [
    "We will use the following predictors to predict whether a user was suspended or not"
   ]
  },
  {
   "cell_type": "code",
   "execution_count": 180,
   "metadata": {},
   "outputs": [],
   "source": [
    "predictors = ['politics_hashtag','politics_sites1','politics_sites2','politics_followed','lowqual_afm','lowqual_mbfc','lowqual_lasser2019','lowqual_pr2019_fc','lowqual_pr2019_crowd',]\n",
    "politics = data[['politics_hashtag','politics_sites1','politics_sites2','politics_followed']]\n",
    "quality = data[['lowqual_afm','lowqual_mbfc','lowqual_lasser2019','lowqual_pr2019_fc','lowqual_pr2019_crowd']]"
   ]
  },
  {
   "cell_type": "markdown",
   "metadata": {},
   "source": [
    "To create predictions, a good approach is probit regression. To evaluate our predictictions the AUC of the ROC curve is appropriate. Moreover, to get confidence intervals,  we will repeat each prediction 100 times with bootstrap."
   ]
  },
  {
   "cell_type": "code",
   "execution_count": 181,
   "metadata": {},
   "outputs": [],
   "source": [
    "evaluation = {}\n",
    "n_bootstrap = 100\n",
    "\n",
    "for predictor in predictors:\n",
    "    probit_data = data[['suspended', predictor]].dropna()\n",
    "    x = probit_data[predictor]\n",
    "    formula = f'suspended ~{predictor}'\n",
    "    model = smf.probit(formula, data=probit_data).fit(disp=False) \n",
    "    probit_data['pred_prob'] = model.predict(x)\n",
    "    results=[]\n",
    "    for _ in range(100):\n",
    "        bootstrapped_data = probit_data.sample(frac=1.0, replace=True)\n",
    "        auc = roc_auc_score(bootstrapped_data['suspended'], bootstrapped_data['pred_prob'])\n",
    "        results.append(auc)\n",
    "    mean_auc = np.mean(results)\n",
    "    lower_ci = np.percentile(results, 2.5)\n",
    "    upper_ci = np.percentile(results, 97.5)\n",
    "    if predictor in quality:\n",
    "        class_ = 'Low-quality news sharing'\n",
    "    else:\n",
    "        class_ = 'Political orientation'\n",
    "    evaluation[predictor] = {'lower_ci': lower_ci, 'mean_auc': mean_auc, 'upper_ci': upper_ci, 'Classes': class_}\n",
    "evaluation = pd.DataFrame(evaluation).T\n"
   ]
  },
  {
   "cell_type": "code",
   "execution_count": 182,
   "metadata": {},
   "outputs": [
    {
     "name": "stderr",
     "output_type": "stream",
     "text": [
      "C:\\Users\\karyo\\AppData\\Local\\Temp\\ipykernel_5496\\1859620889.py:2: FutureWarning: DataFrame.applymap has been deprecated. Use DataFrame.map instead.\n",
      "  formatted_eval[['lower_ci', 'mean_auc', 'upper_ci']] = formatted_eval[['lower_ci', 'mean_auc', 'upper_ci']].applymap(lambda x: f'{x:.2f}')\n"
     ]
    },
    {
     "data": {
      "text/html": [
       "<div>\n",
       "<style scoped>\n",
       "    .dataframe tbody tr th:only-of-type {\n",
       "        vertical-align: middle;\n",
       "    }\n",
       "\n",
       "    .dataframe tbody tr th {\n",
       "        vertical-align: top;\n",
       "    }\n",
       "\n",
       "    .dataframe thead th {\n",
       "        text-align: right;\n",
       "    }\n",
       "</style>\n",
       "<table border=\"1\" class=\"dataframe\">\n",
       "  <thead>\n",
       "    <tr style=\"text-align: right;\">\n",
       "      <th></th>\n",
       "      <th>lower_ci</th>\n",
       "      <th>mean_auc</th>\n",
       "      <th>upper_ci</th>\n",
       "      <th>Classes</th>\n",
       "    </tr>\n",
       "  </thead>\n",
       "  <tbody>\n",
       "    <tr>\n",
       "      <th>politics_hashtag</th>\n",
       "      <td>0.67</td>\n",
       "      <td>0.68</td>\n",
       "      <td>0.69</td>\n",
       "      <td>Political orientation</td>\n",
       "    </tr>\n",
       "    <tr>\n",
       "      <th>politics_sites1</th>\n",
       "      <td>0.69</td>\n",
       "      <td>0.70</td>\n",
       "      <td>0.72</td>\n",
       "      <td>Political orientation</td>\n",
       "    </tr>\n",
       "    <tr>\n",
       "      <th>politics_sites2</th>\n",
       "      <td>0.69</td>\n",
       "      <td>0.71</td>\n",
       "      <td>0.72</td>\n",
       "      <td>Political orientation</td>\n",
       "    </tr>\n",
       "    <tr>\n",
       "      <th>politics_followed</th>\n",
       "      <td>0.70</td>\n",
       "      <td>0.72</td>\n",
       "      <td>0.73</td>\n",
       "      <td>Political orientation</td>\n",
       "    </tr>\n",
       "    <tr>\n",
       "      <th>lowqual_afm</th>\n",
       "      <td>0.70</td>\n",
       "      <td>0.72</td>\n",
       "      <td>0.73</td>\n",
       "      <td>Low-quality news sharing</td>\n",
       "    </tr>\n",
       "    <tr>\n",
       "      <th>lowqual_mbfc</th>\n",
       "      <td>0.69</td>\n",
       "      <td>0.71</td>\n",
       "      <td>0.72</td>\n",
       "      <td>Low-quality news sharing</td>\n",
       "    </tr>\n",
       "    <tr>\n",
       "      <th>lowqual_lasser2019</th>\n",
       "      <td>0.69</td>\n",
       "      <td>0.71</td>\n",
       "      <td>0.72</td>\n",
       "      <td>Low-quality news sharing</td>\n",
       "    </tr>\n",
       "    <tr>\n",
       "      <th>lowqual_pr2019_fc</th>\n",
       "      <td>0.69</td>\n",
       "      <td>0.70</td>\n",
       "      <td>0.71</td>\n",
       "      <td>Low-quality news sharing</td>\n",
       "    </tr>\n",
       "    <tr>\n",
       "      <th>lowqual_pr2019_crowd</th>\n",
       "      <td>0.67</td>\n",
       "      <td>0.69</td>\n",
       "      <td>0.70</td>\n",
       "      <td>Low-quality news sharing</td>\n",
       "    </tr>\n",
       "  </tbody>\n",
       "</table>\n",
       "</div>"
      ],
      "text/plain": [
       "                     lower_ci mean_auc upper_ci                   Classes\n",
       "politics_hashtag         0.67     0.68     0.69     Political orientation\n",
       "politics_sites1          0.69     0.70     0.72     Political orientation\n",
       "politics_sites2          0.69     0.71     0.72     Political orientation\n",
       "politics_followed        0.70     0.72     0.73     Political orientation\n",
       "lowqual_afm              0.70     0.72     0.73  Low-quality news sharing\n",
       "lowqual_mbfc             0.69     0.71     0.72  Low-quality news sharing\n",
       "lowqual_lasser2019       0.69     0.71     0.72  Low-quality news sharing\n",
       "lowqual_pr2019_fc        0.69     0.70     0.71  Low-quality news sharing\n",
       "lowqual_pr2019_crowd     0.67     0.69     0.70  Low-quality news sharing"
      ]
     },
     "execution_count": 182,
     "metadata": {},
     "output_type": "execute_result"
    }
   ],
   "source": [
    "formatted_eval = evaluation.copy()\n",
    "formatted_eval[['lower_ci', 'mean_auc', 'upper_ci']] = formatted_eval[['lower_ci', 'mean_auc', 'upper_ci']].applymap(lambda x: f'{x:.2f}')\n",
    "formatted_eval"
   ]
  },
  {
   "cell_type": "markdown",
   "metadata": {},
   "source": [
    "After having mean AUC, lower and upper confidence interval for each predictor, we can visualize the result with a barplot."
   ]
  },
  {
   "cell_type": "code",
   "execution_count": 183,
   "metadata": {},
   "outputs": [
    {
     "data": {
      "image/png": "[encoded data removed]",
      "text/plain": [
       "<Figure size 1200x600 with 1 Axes>"
      ]
     },
     "metadata": {},
     "output_type": "display_data"
    }
   ],
   "source": [
    "plt.figure(figsize=(12, 6))\n",
    "\n",
    "# Create the bar plot \n",
    "ax = sns.barplot(\n",
    "    x=evaluation.index, \n",
    "    y='mean_auc', \n",
    "    hue='Classes',\n",
    "    data=evaluation, \n",
    "    palette=[\"#9b59b6\", \"#2ca02c\"],\n",
    "    dodge=False\n",
    ")\n",
    "\n",
    "plt.xlabel('Predictors', fontsize=12)\n",
    "plt.ylabel('Mean AUC Score', fontsize=12)\n",
    "plt.ylim(0.5, 0.8)\n",
    "\n",
    "# Get the actual bar positions\n",
    "bars = ax.containers[0]\n",
    "\n",
    "# Add centered error bars\n",
    "for i, (index, row) in enumerate(evaluation.iterrows()):\n",
    "    # Get the center of the bar\n",
    "    bar_center = bars[i].get_x() + bars[i].get_width() / 2\n",
    "    \n",
    "    plt.errorbar(\n",
    "        bar_center, \n",
    "        row['mean_auc'], \n",
    "        yerr=[[row['mean_auc'] - row['lower_ci']], \n",
    "              [row['upper_ci'] - row['mean_auc']]], \n",
    "        fmt='none', \n",
    "        color='black', \n",
    "        capsize=5, \n",
    "        linewidth=1.5\n",
    "    )\n",
    "\n",
    "# Adjust x-ticks to match the center of the bars\n",
    "tick_positions = [bar.get_x() + bar.get_width() / 2 for bar in bars]\n",
    "plt.xticks(tick_positions, \n",
    "           ['Hastag \\n Shared', \n",
    "            'New sites \\n shared 1', \n",
    "            'News \\n sites \\n shared 2', \n",
    "            'Accounts \\n Followed', \n",
    "            'AFM \\n rating', \n",
    "            'MBFC \\n ratings', \n",
    "            'Lasser\\nratings', \n",
    "            'Fact-\\nchecker\\nrating', \n",
    "            'Layperson\\nratings'], \n",
    "           rotation=0)\n",
    "\n",
    "# Adjust layout and display\n",
    "plt.tight_layout()\n",
    "plt.show()"
   ]
  },
  {
   "cell_type": "markdown",
   "metadata": {},
   "source": [
    "Therefore, when examined independently, political orientation and sharing low-quality news are similarly predictive of suspension."
   ]
  },
  {
   "cell_type": "markdown",
   "metadata": {},
   "source": [
    "## News Sharing Can Help Explain Suspension, Using Multiple Predictors"
   ]
  },
  {
   "cell_type": "markdown",
   "metadata": {},
   "source": [
    "* We will start by filing in missing values in your data by using the column mean, as PCA does not accept missing values encoded as NaN natively"
   ]
  },
  {
   "cell_type": "code",
   "execution_count": 184,
   "metadata": {},
   "outputs": [],
   "source": [
    "regression_data = data.copy()\n",
    "regression_data = regression_data.fillna(regression_data.mean())"
   ]
  },
  {
   "cell_type": "markdown",
   "metadata": {},
   "source": [
    "* Log transform using base 10, the variables that are related to Tweeter metrics"
   ]
  },
  {
   "cell_type": "code",
   "execution_count": 185,
   "metadata": {},
   "outputs": [],
   "source": [
    "twitter_metrics =['repeated_tweet_count','freq_pr_1h','num_followers','num_friends']\n",
    "\n",
    "for metric in twitter_metrics:\n",
    "    regression_data[f'log_{metric}'] = np.log10(regression_data[metric] + 1)\n",
    "    "
   ]
  },
  {
   "cell_type": "markdown",
   "metadata": {},
   "source": [
    "We must introduce an additional variable, `log_fol`, which should the be base 10 logarithm of `num_friends` over `num_followers` ratio."
   ]
  },
  {
   "cell_type": "code",
   "execution_count": 186,
   "metadata": {},
   "outputs": [],
   "source": [
    "regression_data['log_fol'] = np.log10((regression_data['num_friends'] + 1) / (regression_data['num_followers'] +1))"
   ]
  },
  {
   "cell_type": "markdown",
   "metadata": {},
   "source": [
    "To reduce the effect of outliers, we will winsorize the data. Winzorize from both sides at the top 1% the following variables:"
   ]
  },
  {
   "cell_type": "code",
   "execution_count": 187,
   "metadata": {},
   "outputs": [],
   "source": [
    "winsorized_both_sides = ['valence_neg','valence_neu','valence_pos','barbera_std','politics_sites1_std','politics_sites2_ideo_std']\n",
    "for col in winsorized_both_sides:\n",
    "    regression_data[col] = winsorize(regression_data[col], limits=[0.01, 0.01])"
   ]
  },
  {
   "cell_type": "markdown",
   "metadata": {},
   "source": [
    "* We winsorize only top 1%"
   ]
  },
  {
   "cell_type": "code",
   "execution_count": 188,
   "metadata": {},
   "outputs": [],
   "source": [
    "winsorized_upper = ['moral_outrage','rewire_abuse', 'rewire_hate','rewire_profanity','rewire_violent','rewire_sexually_explicit','jigsaw_toxicity','jigsaw_severe_toxicity','jigsaw_idenity_attack','jigsaw_insult','jigsaw_profanity','jigsaw_threat']\n",
    "for col in winsorized_upper:\n",
    "    regression_data[col] = winsorize(regression_data[col], limits=[0, 0.01])"
   ]
  },
  {
   "cell_type": "markdown",
   "metadata": {},
   "source": [
    "* Then, PCA can be used to reduce the number of features, while explaining most of the variance.\n",
    "* PCA is affected by feature scales, so  data must be standardized"
   ]
  },
  {
   "cell_type": "code",
   "execution_count": 189,
   "metadata": {},
   "outputs": [],
   "source": [
    "quality_news_sharing = ['lowqual_pr2019_fc','lowqual_afm','lowqual_lasser2019','lowqual_mbfc']\n",
    "regression_data[quality_news_sharing] = StandardScaler().fit_transform(regression_data[quality_news_sharing])"
   ]
  },
  {
   "cell_type": "code",
   "execution_count": 190,
   "metadata": {},
   "outputs": [
    {
     "data": {
      "text/plain": [
       "array([0.87255953])"
      ]
     },
     "execution_count": 190,
     "metadata": {},
     "output_type": "execute_result"
    }
   ],
   "source": [
    "pca = PCA(n_components=1)\n",
    "pca.fit(regression_data[quality_news_sharing])\n",
    "pca.explained_variance_ratio_\n"
   ]
  },
  {
   "cell_type": "markdown",
   "metadata": {},
   "source": [
    "* We see that the component explains more than 87% of the variance of our data\n",
    "* Next, we assign the transformed values of the first principal component to the dataFrame column"
   ]
  },
  {
   "cell_type": "code",
   "execution_count": 191,
   "metadata": {},
   "outputs": [],
   "source": [
    "regression_data['pc1_misinfo'] = pca.transform(regression_data[quality_news_sharing])"
   ]
  },
  {
   "cell_type": "markdown",
   "metadata": {},
   "source": [
    "* We will work in the same way for the political orientation, getting a single PCA component, `pc1_politics`"
   ]
  },
  {
   "cell_type": "code",
   "execution_count": 192,
   "metadata": {},
   "outputs": [],
   "source": [
    "politics = ['politics_hashtag','politics_followed','politics_sites1','politics_sites2']\n",
    "regression_data[politics] = StandardScaler().fit_transform(regression_data[politics])"
   ]
  },
  {
   "cell_type": "code",
   "execution_count": 193,
   "metadata": {},
   "outputs": [
    {
     "data": {
      "text/plain": [
       "array([0.87952937])"
      ]
     },
     "execution_count": 193,
     "metadata": {},
     "output_type": "execute_result"
    }
   ],
   "source": [
    "pca2 = PCA(n_components=1)\n",
    "pca2.fit(regression_data[politics])\n",
    "pca2.explained_variance_ratio_"
   ]
  },
  {
   "cell_type": "markdown",
   "metadata": {},
   "source": [
    "* Again, the component explains more than 87% of the variance of our data\n",
    "* Let's introduce a new variable, `extremity`, which is the absolute value of the PCA component we got"
   ]
  },
  {
   "cell_type": "code",
   "execution_count": 194,
   "metadata": {},
   "outputs": [],
   "source": [
    "regression_data['pc1_politics'] = pca2.transform(regression_data[politics])\n",
    "regression_data['extremity'] = abs(regression_data['pc1_politics'])"
   ]
  },
  {
   "cell_type": "markdown",
   "metadata": {},
   "source": [
    "* We can do the same for `log_followers`, `log_friends`, `log_fol`, producing `pc1_fol`"
   ]
  },
  {
   "cell_type": "code",
   "execution_count": 195,
   "metadata": {},
   "outputs": [],
   "source": [
    "pca3 = PCA(n_components=1)\n",
    "cols = ['log_num_followers','log_num_friends','log_fol']\n",
    "regression_data[cols] = StandardScaler().fit_transform(regression_data[cols])"
   ]
  },
  {
   "cell_type": "code",
   "execution_count": 196,
   "metadata": {},
   "outputs": [
    {
     "data": {
      "text/plain": [
       "array([0.70462969])"
      ]
     },
     "execution_count": 196,
     "metadata": {},
     "output_type": "execute_result"
    }
   ],
   "source": [
    "regression_data['pc1_fol'] = pca3.fit_transform(regression_data[cols])\n",
    "pca3.explained_variance_ratio_"
   ]
  },
  {
   "cell_type": "markdown",
   "metadata": {},
   "source": [
    "* This time the new feature explains 70% of the variance of our data"
   ]
  },
  {
   "cell_type": "markdown",
   "metadata": {},
   "source": [
    "* Regarding the harmful language variables, we can perform PCA for *three* components, `pc1_harmful_language`, `pc2_harmful_language`, `pc3_harmful_language`, on the below winsorized data"
   ]
  },
  {
   "cell_type": "code",
   "execution_count": 197,
   "metadata": {},
   "outputs": [],
   "source": [
    "language = ['rewire_abuse', 'rewire_hate','rewire_profanity','rewire_violent','rewire_sexually_explicit','jigsaw_toxicity','jigsaw_severe_toxicity','jigsaw_idenity_attack','jigsaw_insult','jigsaw_profanity','jigsaw_threat']\n",
    "regression_data[language] = StandardScaler().fit_transform(regression_data[language])"
   ]
  },
  {
   "cell_type": "code",
   "execution_count": 198,
   "metadata": {},
   "outputs": [
    {
     "name": "stdout",
     "output_type": "stream",
     "text": [
      "pca for one componenct variance ration : 0.5616608005007235\n",
      "pca for three componenct variance ration : 0.7874157847381192\n"
     ]
    }
   ],
   "source": [
    "pca4 = PCA(n_components=3)\n",
    "pca4.fit(regression_data[language])\n",
    "regression_data['pc1_harmful_language'], regression_data['pc2_harmful_language'], regression_data['pc3_harmful_language'] = pca4.transform(regression_data[language]).T\n",
    "print(f'pca for one componenct variance ration : {pca4.explained_variance_ratio_[0]}')\n",
    "print(f'pca for three componenct variance ration : {pca4.explained_variance_ratio_.sum()}')"
   ]
  },
  {
   "cell_type": "markdown",
   "metadata": {},
   "source": [
    "At this point, it it meaningful to check why we chose 3 components for the PCA."
   ]
  },
  {
   "cell_type": "code",
   "execution_count": 199,
   "metadata": {},
   "outputs": [
    {
     "data": {
      "text/plain": [
       "array([0.5616608 , 0.11871792, 0.10703707])"
      ]
     },
     "execution_count": 199,
     "metadata": {},
     "output_type": "execute_result"
    }
   ],
   "source": [
    "pca4.explained_variance_ratio_"
   ]
  },
  {
   "cell_type": "markdown",
   "metadata": {},
   "source": [
    "* First component: Explains ~56.17% of the variance.\n",
    "* Second component: Explains ~11.87% of the variance.\n",
    "* Third component: Explains ~10.70% of the variance.  \n",
    "Using only 1 component means 56.17% of the variance is explained and we're leaving out 43.83% of the variance, which results in losing important information for our analysis.  \n",
    "So, the choice of 3 components for PCA stems from the fact that using only 1 or 2 componenents is insufficient. When we use 3 components, we manage to capture more than 70% of the variance."
   ]
  },
  {
   "cell_type": "markdown",
   "metadata": {},
   "source": [
    "Furthermore, we can try to interpret each of the principal components"
   ]
  },
  {
   "cell_type": "code",
   "execution_count": 200,
   "metadata": {},
   "outputs": [
    {
     "data": {
      "text/plain": [
       "array([[ 0.32530845,  0.23538337,  0.25255674,  0.23252186,  0.12526899,\n",
       "         0.38547179,  0.33586086,  0.30692208,  0.37440778,  0.3617071 ,\n",
       "         0.28039267],\n",
       "       [-0.34409751, -0.5765375 ,  0.23191386, -0.06740265,  0.53686584,\n",
       "        -0.13232154,  0.30099609,  0.04947252, -0.13741195,  0.20511297,\n",
       "         0.17646751],\n",
       "       [-0.30773448, -0.03195551, -0.43039704, -0.03699539, -0.37270948,\n",
       "        -0.07810217,  0.24571418,  0.46254153, -0.03715369, -0.15336206,\n",
       "         0.52291043]])"
      ]
     },
     "execution_count": 200,
     "metadata": {},
     "output_type": "execute_result"
    }
   ],
   "source": [
    "pca4.components_"
   ]
  },
  {
   "cell_type": "markdown",
   "metadata": {},
   "source": [
    "$\\text{PC}_1 = 0.3253 \\cdot \\text{rewire\\_abuse} + 0.2354 \\cdot \\text{rewire\\_hate} + 0.2526 \\cdot \\text{rewire\\_profanity} + 0.2325 \\cdot \\text{rewire\\_violent} + 0.1253 \\cdot \\text{rewire\\_sexually\\_explicit} + 0.3855 \\cdot \\text{jigsaw\\_toxicity} + 0.3359 \\cdot \\text{jigsaw\\_severe\\_toxicity} + 0.3069 \\cdot \\text{jigsaw\\_identity\\_attack} + 0.3744 \\cdot \\text{jigsaw\\_insult} + 0.3617 \\cdot \\text{jigsaw\\_profanity} + 0.2804 \\cdot \\text{jigsaw\\_threat}$\n"
   ]
  },
  {
   "cell_type": "markdown",
   "metadata": {},
   "source": [
    "The largest coefficients come from jigsaw_toxicity (0.3855), jigsaw_insult (0.3744), and jigsaw_severe_toxicity (0.3359), suggesting that this component captures overall toxicity, abusive behavior, and aggression"
   ]
  },
  {
   "cell_type": "markdown",
   "metadata": {},
   "source": [
    "$\\text{PC}_2 = -0.3441 \\cdot \\text{rewire\\_abuse} - 0.5765 \\cdot \\text{rewire\\_hate} + 0.2319 \\cdot \\text{rewire\\_profanity} - 0.0674 \\cdot \\text{rewire\\_violent} + 0.5369 \\cdot \\text{rewire\\_sexually\\_explicit} - 0.1323 \\cdot \\text{jigsaw\\_toxicity} + 0.3010 \\cdot \\text{jigsaw\\_severe\\_toxicity} + 0.0495 \\cdot \\text{jigsaw\\_identity\\_attack} - 0.1374 \\cdot \\text{jigsaw\\_insult} + 0.2051 \\cdot \\text{jigsaw\\_profanity} + 0.1765 \\cdot \\text{jigsaw\\_threat}$"
   ]
  },
  {
   "cell_type": "markdown",
   "metadata": {},
   "source": [
    "The largest negative contributions come from `rewire_hate` (-0.5765) and `rewire_abuse` (-0.3441).\n",
    "This suggests that less hateful and abusive content results in higher $\\text{PC}_2$ values, while content with strong hate or abuse brings $\\text{PC}_2$ lower.  \n",
    "`rewire_sexually_explicit` has the highest positive coefficient (0.5369).\n",
    "This indicates that sexually explicit language is positively associated with $\\text{PC}_2$.  \n",
    "$\\text{PC}_2$ seems to capture a \"Sexual Explicitness vs. Hate/Abuse\" dimension. Higher $\\text{PC}_2$ values are driven by sexually explicit and profane content, while lower values are linked to hate and abuse. This dimension might distinguish between types of harmful behavior—for example, separating explicit but non-hateful language from overtly hateful or abusive content."
   ]
  },
  {
   "cell_type": "markdown",
   "metadata": {},
   "source": [
    "$\\text{PC}_3 = -0.3077 \\cdot \\text{rewire\\_abuse} - 0.0320 \\cdot \\text{rewire\\_hate} - 0.4304 \\cdot \\text{rewire\\_profanity} - 0.0370 \\cdot \\text{rewire\\_violent} - 0.3727 \\cdot \\text{rewire\\_sexually\\_explicit} - 0.0781 \\cdot \\text{jigsaw\\_toxicity} + 0.2457 \\cdot \\text{jigsaw\\_severe\\_toxicity} + 0.4625 \\cdot \\text{jigsaw\\_identity\\_attack} - 0.0372 \\cdot \\text{jigsaw\\_insult} - 0.1534 \\cdot \\text{jigsaw\\_profanity} + 0.5229 \\cdot \\text{jigsaw\\_threat}$\n"
   ]
  },
  {
   "cell_type": "markdown",
   "metadata": {},
   "source": [
    "The largest negative contributions come from `rewire_abuse` (-0.3077), `rewire_profanity` (-0.4304), and `rewire_sexually_explicit` (-0.3727).\n",
    "These features suggest that content with abusive, profane, or sexually explicit language results in lower $\\text{PC}_3$ values. The larger negative coefficient for `rewire_profanity` indicates that profanity has a strong negative relationship with this component.  \n",
    "The largest positive contributions come from `jigsaw_identity_attack` (0.4625) and `jigsaw_threat `(0.5229).\n",
    "These features suggest that identity attacks and threats have a strong positive influence on $\\text{PC}_3$, indicating that content with threatening language or attacks based on identity is more likely to increase the value of this component.  \n",
    "$\\text{PC}_3$ appears to capture a \"Threatening and Identity Attacks vs. Profanity\" dimension. High values of $\\text{PC}_3$ are driven by threatening language, identity attacks, and severe toxicity, while content with profanity, abuse, and sexually explicit language tends to lower the value of this component."
   ]
  },
  {
   "cell_type": "markdown",
   "metadata": {},
   "source": [
    "Let's return to producing a single PCA component, `pc1_valence`, for the winsorized data of the valence variables"
   ]
  },
  {
   "cell_type": "code",
   "execution_count": 201,
   "metadata": {},
   "outputs": [
    {
     "data": {
      "text/plain": [
       "array([0.7079432])"
      ]
     },
     "execution_count": 201,
     "metadata": {},
     "output_type": "execute_result"
    }
   ],
   "source": [
    "valence = ['valence_neg','valence_neu','valence_pos']\n",
    "pca5 = PCA(n_components = 1)\n",
    "regression_data[valence] = StandardScaler().fit_transform(regression_data[valence])\n",
    "pca5.fit(regression_data[valence])\n",
    "regression_data['pc1_valence'] = pca5.transform(regression_data[valence])\n",
    "pca5.explained_variance_ratio_"
   ]
  },
  {
   "cell_type": "markdown",
   "metadata": {},
   "source": [
    "Before proceeding, we should normalize the independent variables by taking their z-scores. We will use the following z-scored independent variables (winsorized as stated above)"
   ]
  },
  {
   "cell_type": "code",
   "execution_count": 202,
   "metadata": {},
   "outputs": [],
   "source": [
    "variables = [\n",
    "    'pc1_politics',\n",
    "    'pc1_misinfo',\n",
    "    'pc1_fol',\n",
    "    'pc1_harmful_language',\n",
    "    'pc2_harmful_language',\n",
    "    'pc3_harmful_language',\n",
    "    'pc1_valence',\n",
    "    'tweets_in_2wk',\n",
    "    'botsentinel_score',\n",
    "    'extremity',\n",
    "    'moral_outrage',\n",
    "    'liwc_political',\n",
    "    'log_freq_pr_1h',\n",
    "    'log_repeated_tweet_count',\n",
    "    'barbera_std',\n",
    "    'politics_sites1_std',\n",
    "    'politics_sites2_ideo_std'\n",
    "]"
   ]
  },
  {
   "cell_type": "code",
   "execution_count": 203,
   "metadata": {},
   "outputs": [],
   "source": [
    "for var in variables:\n",
    "    regression_data[var] = StandardScaler().fit_transform(regression_data[[var]])"
   ]
  },
  {
   "cell_type": "markdown",
   "metadata": {},
   "source": [
    "After all the pre-processing we have done, we can now carry out a probit regression to predict suspension."
   ]
  },
  {
   "cell_type": "markdown",
   "metadata": {},
   "source": [
    "### Regression using probit"
   ]
  },
  {
   "cell_type": "code",
   "execution_count": 204,
   "metadata": {},
   "outputs": [],
   "source": [
    "formula = 'suspended ~ ' + ' + '.join(variables)\n",
    "probit_model = smf.probit(formula, data=regression_data).fit(disp=False)\n",
    "p_values = probit_model.pvalues"
   ]
  },
  {
   "cell_type": "markdown",
   "metadata": {},
   "source": [
    "We will perform Bonferroni correction to adjust significance level, so that we control the overall probability of a Type I error (false positive) for multiple hypothesis tests. While the type I error rate equals the significance level for a single test, it grows as we increase the number of tests. The goal is to reduce the family-wise error rate (FWER) so that it equals our original significance level.  \n",
    "Furthermore, we will perform the Holm-Bonferroni correction to make our approach less conservative and reduce the probability of Type II error (false negative)."
   ]
  },
  {
   "cell_type": "code",
   "execution_count": 205,
   "metadata": {},
   "outputs": [
    {
     "name": "stderr",
     "output_type": "stream",
     "text": [
      "C:\\Users\\karyo\\AppData\\Local\\Temp\\ipykernel_5496\\1553530528.py:5: FutureWarning: Series.__getitem__ treating keys as positions is deprecated. In a future version, integer keys will always be treated as labels (consistent with DataFrame behavior). To access a value by position, use `ser.iloc[pos]`\n",
      "  p_values_for_all_predictors.append([variables[i], p_values[i+1], adjusted_p_values_bonferroni[1][i+1],adjusted_p_values_bonferroni_holm[1][i+1]])\n"
     ]
    }
   ],
   "source": [
    "adjusted_p_values_bonferroni = multipletests(p_values, alpha = 0.05, method = 'bonferroni')\n",
    "adjusted_p_values_bonferroni_holm = multipletests(p_values, alpha = 0.05, method = 'holm')\n",
    "p_values_for_all_predictors = []\n",
    "for i in range(len(variables)):\n",
    "        p_values_for_all_predictors.append([variables[i], p_values[i+1], adjusted_p_values_bonferroni[1][i+1],adjusted_p_values_bonferroni_holm[1][i+1]])\n",
    "p_values_for_all_predictors = pd.DataFrame(p_values_for_all_predictors, columns=['Predictor','P-Value', 'Bonferroni P-Value', 'Holm-Bonferroni P-Value'])"
   ]
  },
  {
   "cell_type": "code",
   "execution_count": 206,
   "metadata": {},
   "outputs": [
    {
     "data": {
      "text/html": [
       "<table class=\"simpletable\">\n",
       "<caption>Probit Regression Results</caption>\n",
       "<tr>\n",
       "  <th>Dep. Variable:</th>       <td>suspended</td>    <th>  No. Observations:  </th>   <td>  9000</td>  \n",
       "</tr>\n",
       "<tr>\n",
       "  <th>Model:</th>                <td>Probit</td>      <th>  Df Residuals:      </th>   <td>  8982</td>  \n",
       "</tr>\n",
       "<tr>\n",
       "  <th>Method:</th>                 <td>MLE</td>       <th>  Df Model:          </th>   <td>    17</td>  \n",
       "</tr>\n",
       "<tr>\n",
       "  <th>Date:</th>            <td>Fri, 06 Dec 2024</td> <th>  Pseudo R-squ.:     </th>   <td>0.1762</td>  \n",
       "</tr>\n",
       "<tr>\n",
       "  <th>Time:</th>                <td>16:09:06</td>     <th>  Log-Likelihood:    </th>  <td> -2723.7</td> \n",
       "</tr>\n",
       "<tr>\n",
       "  <th>converged:</th>             <td>True</td>       <th>  LL-Null:           </th>  <td> -3306.3</td> \n",
       "</tr>\n",
       "<tr>\n",
       "  <th>Covariance Type:</th>     <td>nonrobust</td>    <th>  LLR p-value:       </th> <td>3.877e-237</td>\n",
       "</tr>\n",
       "</table>\n",
       "<table class=\"simpletable\">\n",
       "<tr>\n",
       "              <td></td>                <th>coef</th>     <th>std err</th>      <th>z</th>      <th>P>|z|</th>  <th>[0.025</th>    <th>0.975]</th>  \n",
       "</tr>\n",
       "<tr>\n",
       "  <th>Intercept</th>                <td>   -1.4273</td> <td>    0.023</td> <td>  -61.086</td> <td> 0.000</td> <td>   -1.473</td> <td>   -1.381</td>\n",
       "</tr>\n",
       "<tr>\n",
       "  <th>pc1_politics</th>             <td>    0.1341</td> <td>    0.053</td> <td>    2.535</td> <td> 0.011</td> <td>    0.030</td> <td>    0.238</td>\n",
       "</tr>\n",
       "<tr>\n",
       "  <th>pc1_misinfo</th>              <td>    0.2448</td> <td>    0.046</td> <td>    5.265</td> <td> 0.000</td> <td>    0.154</td> <td>    0.336</td>\n",
       "</tr>\n",
       "<tr>\n",
       "  <th>pc1_fol</th>                  <td>   -0.0013</td> <td>    0.021</td> <td>   -0.064</td> <td> 0.949</td> <td>   -0.042</td> <td>    0.040</td>\n",
       "</tr>\n",
       "<tr>\n",
       "  <th>pc1_harmful_language</th>     <td>    0.1761</td> <td>    0.026</td> <td>    6.750</td> <td> 0.000</td> <td>    0.125</td> <td>    0.227</td>\n",
       "</tr>\n",
       "<tr>\n",
       "  <th>pc2_harmful_language</th>     <td>    0.0830</td> <td>    0.026</td> <td>    3.226</td> <td> 0.001</td> <td>    0.033</td> <td>    0.133</td>\n",
       "</tr>\n",
       "<tr>\n",
       "  <th>pc3_harmful_language</th>     <td>   -0.0662</td> <td>    0.021</td> <td>   -3.216</td> <td> 0.001</td> <td>   -0.107</td> <td>   -0.026</td>\n",
       "</tr>\n",
       "<tr>\n",
       "  <th>pc1_valence</th>              <td>    0.0410</td> <td>    0.023</td> <td>    1.819</td> <td> 0.069</td> <td>   -0.003</td> <td>    0.085</td>\n",
       "</tr>\n",
       "<tr>\n",
       "  <th>tweets_in_2wk</th>            <td>    0.3316</td> <td>    0.021</td> <td>   15.934</td> <td> 0.000</td> <td>    0.291</td> <td>    0.372</td>\n",
       "</tr>\n",
       "<tr>\n",
       "  <th>botsentinel_score</th>        <td>    0.1825</td> <td>    0.039</td> <td>    4.724</td> <td> 0.000</td> <td>    0.107</td> <td>    0.258</td>\n",
       "</tr>\n",
       "<tr>\n",
       "  <th>extremity</th>                <td>   -0.1199</td> <td>    0.023</td> <td>   -5.295</td> <td> 0.000</td> <td>   -0.164</td> <td>   -0.076</td>\n",
       "</tr>\n",
       "<tr>\n",
       "  <th>moral_outrage</th>            <td>    0.0170</td> <td>    0.034</td> <td>    0.501</td> <td> 0.616</td> <td>   -0.049</td> <td>    0.083</td>\n",
       "</tr>\n",
       "<tr>\n",
       "  <th>liwc_political</th>           <td>   -0.0226</td> <td>    0.029</td> <td>   -0.790</td> <td> 0.429</td> <td>   -0.079</td> <td>    0.033</td>\n",
       "</tr>\n",
       "<tr>\n",
       "  <th>log_freq_pr_1h</th>           <td>    0.1222</td> <td>    0.023</td> <td>    5.351</td> <td> 0.000</td> <td>    0.077</td> <td>    0.167</td>\n",
       "</tr>\n",
       "<tr>\n",
       "  <th>log_repeated_tweet_count</th> <td>   -0.0074</td> <td>    0.023</td> <td>   -0.326</td> <td> 0.745</td> <td>   -0.052</td> <td>    0.037</td>\n",
       "</tr>\n",
       "<tr>\n",
       "  <th>barbera_std</th>              <td>   -0.0303</td> <td>    0.024</td> <td>   -1.276</td> <td> 0.202</td> <td>   -0.077</td> <td>    0.016</td>\n",
       "</tr>\n",
       "<tr>\n",
       "  <th>politics_sites1_std</th>      <td>   -0.0259</td> <td>    0.021</td> <td>   -1.224</td> <td> 0.221</td> <td>   -0.067</td> <td>    0.016</td>\n",
       "</tr>\n",
       "<tr>\n",
       "  <th>politics_sites2_ideo_std</th> <td>    0.0612</td> <td>    0.022</td> <td>    2.752</td> <td> 0.006</td> <td>    0.018</td> <td>    0.105</td>\n",
       "</tr>\n",
       "</table>"
      ],
      "text/latex": [
       "\\begin{center}\n",
       "\\begin{tabular}{lclc}\n",
       "\\toprule\n",
       "\\textbf{Dep. Variable:}              &    suspended     & \\textbf{  No. Observations:  } &     9000    \\\\\n",
       "\\textbf{Model:}                      &      Probit      & \\textbf{  Df Residuals:      } &     8982    \\\\\n",
       "\\textbf{Method:}                     &       MLE        & \\textbf{  Df Model:          } &       17    \\\\\n",
       "\\textbf{Date:}                       & Fri, 06 Dec 2024 & \\textbf{  Pseudo R-squ.:     } &   0.1762    \\\\\n",
       "\\textbf{Time:}                       &     16:09:06     & \\textbf{  Log-Likelihood:    } &   -2723.7   \\\\\n",
       "\\textbf{converged:}                  &       True       & \\textbf{  LL-Null:           } &   -3306.3   \\\\\n",
       "\\textbf{Covariance Type:}            &    nonrobust     & \\textbf{  LLR p-value:       } & 3.877e-237  \\\\\n",
       "\\bottomrule\n",
       "\\end{tabular}\n",
       "\\begin{tabular}{lcccccc}\n",
       "                                     & \\textbf{coef} & \\textbf{std err} & \\textbf{z} & \\textbf{P$> |$z$|$} & \\textbf{[0.025} & \\textbf{0.975]}  \\\\\n",
       "\\midrule\n",
       "\\textbf{Intercept}                   &      -1.4273  &        0.023     &   -61.086  &         0.000        &       -1.473    &       -1.381     \\\\\n",
       "\\textbf{pc1\\_politics}               &       0.1341  &        0.053     &     2.535  &         0.011        &        0.030    &        0.238     \\\\\n",
       "\\textbf{pc1\\_misinfo}                &       0.2448  &        0.046     &     5.265  &         0.000        &        0.154    &        0.336     \\\\\n",
       "\\textbf{pc1\\_fol}                    &      -0.0013  &        0.021     &    -0.064  &         0.949        &       -0.042    &        0.040     \\\\\n",
       "\\textbf{pc1\\_harmful\\_language}      &       0.1761  &        0.026     &     6.750  &         0.000        &        0.125    &        0.227     \\\\\n",
       "\\textbf{pc2\\_harmful\\_language}      &       0.0830  &        0.026     &     3.226  &         0.001        &        0.033    &        0.133     \\\\\n",
       "\\textbf{pc3\\_harmful\\_language}      &      -0.0662  &        0.021     &    -3.216  &         0.001        &       -0.107    &       -0.026     \\\\\n",
       "\\textbf{pc1\\_valence}                &       0.0410  &        0.023     &     1.819  &         0.069        &       -0.003    &        0.085     \\\\\n",
       "\\textbf{tweets\\_in\\_2wk}             &       0.3316  &        0.021     &    15.934  &         0.000        &        0.291    &        0.372     \\\\\n",
       "\\textbf{botsentinel\\_score}          &       0.1825  &        0.039     &     4.724  &         0.000        &        0.107    &        0.258     \\\\\n",
       "\\textbf{extremity}                   &      -0.1199  &        0.023     &    -5.295  &         0.000        &       -0.164    &       -0.076     \\\\\n",
       "\\textbf{moral\\_outrage}              &       0.0170  &        0.034     &     0.501  &         0.616        &       -0.049    &        0.083     \\\\\n",
       "\\textbf{liwc\\_political}             &      -0.0226  &        0.029     &    -0.790  &         0.429        &       -0.079    &        0.033     \\\\\n",
       "\\textbf{log\\_freq\\_pr\\_1h}           &       0.1222  &        0.023     &     5.351  &         0.000        &        0.077    &        0.167     \\\\\n",
       "\\textbf{log\\_repeated\\_tweet\\_count} &      -0.0074  &        0.023     &    -0.326  &         0.745        &       -0.052    &        0.037     \\\\\n",
       "\\textbf{barbera\\_std}                &      -0.0303  &        0.024     &    -1.276  &         0.202        &       -0.077    &        0.016     \\\\\n",
       "\\textbf{politics\\_sites1\\_std}       &      -0.0259  &        0.021     &    -1.224  &         0.221        &       -0.067    &        0.016     \\\\\n",
       "\\textbf{politics\\_sites2\\_ideo\\_std} &       0.0612  &        0.022     &     2.752  &         0.006        &        0.018    &        0.105     \\\\\n",
       "\\bottomrule\n",
       "\\end{tabular}\n",
       "%\\caption{Probit Regression Results}\n",
       "\\end{center}"
      ],
      "text/plain": [
       "<class 'statsmodels.iolib.summary.Summary'>\n",
       "\"\"\"\n",
       "                          Probit Regression Results                           \n",
       "==============================================================================\n",
       "Dep. Variable:              suspended   No. Observations:                 9000\n",
       "Model:                         Probit   Df Residuals:                     8982\n",
       "Method:                           MLE   Df Model:                           17\n",
       "Date:                Fri, 06 Dec 2024   Pseudo R-squ.:                  0.1762\n",
       "Time:                        16:09:06   Log-Likelihood:                -2723.7\n",
       "converged:                       True   LL-Null:                       -3306.3\n",
       "Covariance Type:            nonrobust   LLR p-value:                3.877e-237\n",
       "============================================================================================\n",
       "                               coef    std err          z      P>|z|      [0.025      0.975]\n",
       "--------------------------------------------------------------------------------------------\n",
       "Intercept                   -1.4273      0.023    -61.086      0.000      -1.473      -1.381\n",
       "pc1_politics                 0.1341      0.053      2.535      0.011       0.030       0.238\n",
       "pc1_misinfo                  0.2448      0.046      5.265      0.000       0.154       0.336\n",
       "pc1_fol                     -0.0013      0.021     -0.064      0.949      -0.042       0.040\n",
       "pc1_harmful_language         0.1761      0.026      6.750      0.000       0.125       0.227\n",
       "pc2_harmful_language         0.0830      0.026      3.226      0.001       0.033       0.133\n",
       "pc3_harmful_language        -0.0662      0.021     -3.216      0.001      -0.107      -0.026\n",
       "pc1_valence                  0.0410      0.023      1.819      0.069      -0.003       0.085\n",
       "tweets_in_2wk                0.3316      0.021     15.934      0.000       0.291       0.372\n",
       "botsentinel_score            0.1825      0.039      4.724      0.000       0.107       0.258\n",
       "extremity                   -0.1199      0.023     -5.295      0.000      -0.164      -0.076\n",
       "moral_outrage                0.0170      0.034      0.501      0.616      -0.049       0.083\n",
       "liwc_political              -0.0226      0.029     -0.790      0.429      -0.079       0.033\n",
       "log_freq_pr_1h               0.1222      0.023      5.351      0.000       0.077       0.167\n",
       "log_repeated_tweet_count    -0.0074      0.023     -0.326      0.745      -0.052       0.037\n",
       "barbera_std                 -0.0303      0.024     -1.276      0.202      -0.077       0.016\n",
       "politics_sites1_std         -0.0259      0.021     -1.224      0.221      -0.067       0.016\n",
       "politics_sites2_ideo_std     0.0612      0.022      2.752      0.006       0.018       0.105\n",
       "============================================================================================\n",
       "\"\"\""
      ]
     },
     "execution_count": 206,
     "metadata": {},
     "output_type": "execute_result"
    }
   ],
   "source": [
    "probit_model.summary()"
   ]
  },
  {
   "cell_type": "markdown",
   "metadata": {},
   "source": [
    "The summary shows that the 3 most important predictors are tweets in past two weeks,low quality news sharing and bot score, respectively."
   ]
  },
  {
   "cell_type": "markdown",
   "metadata": {},
   "source": [
    "At this point, is it meaningful to look at the p-values, after the Holm-Bonferroni correction."
   ]
  },
  {
   "cell_type": "code",
   "execution_count": 207,
   "metadata": {},
   "outputs": [],
   "source": [
    "formatted_p_values = p_values_for_all_predictors.copy()\n",
    "formatted_p_values = formatted_p_values.round(2)"
   ]
  },
  {
   "cell_type": "code",
   "execution_count": 208,
   "metadata": {},
   "outputs": [
    {
     "data": {
      "text/html": [
       "<div>\n",
       "<style scoped>\n",
       "    .dataframe tbody tr th:only-of-type {\n",
       "        vertical-align: middle;\n",
       "    }\n",
       "\n",
       "    .dataframe tbody tr th {\n",
       "        vertical-align: top;\n",
       "    }\n",
       "\n",
       "    .dataframe thead th {\n",
       "        text-align: right;\n",
       "    }\n",
       "</style>\n",
       "<table border=\"1\" class=\"dataframe\">\n",
       "  <thead>\n",
       "    <tr style=\"text-align: right;\">\n",
       "      <th></th>\n",
       "      <th>Predictor</th>\n",
       "      <th>P-Value</th>\n",
       "      <th>Bonferroni P-Value</th>\n",
       "      <th>Holm-Bonferroni P-Value</th>\n",
       "    </tr>\n",
       "  </thead>\n",
       "  <tbody>\n",
       "    <tr>\n",
       "      <th>0</th>\n",
       "      <td>pc1_politics</td>\n",
       "      <td>0.01</td>\n",
       "      <td>0.20</td>\n",
       "      <td>0.09</td>\n",
       "    </tr>\n",
       "    <tr>\n",
       "      <th>2</th>\n",
       "      <td>pc1_fol</td>\n",
       "      <td>0.95</td>\n",
       "      <td>1.00</td>\n",
       "      <td>1.00</td>\n",
       "    </tr>\n",
       "    <tr>\n",
       "      <th>6</th>\n",
       "      <td>pc1_valence</td>\n",
       "      <td>0.07</td>\n",
       "      <td>1.00</td>\n",
       "      <td>0.48</td>\n",
       "    </tr>\n",
       "    <tr>\n",
       "      <th>10</th>\n",
       "      <td>moral_outrage</td>\n",
       "      <td>0.62</td>\n",
       "      <td>1.00</td>\n",
       "      <td>1.00</td>\n",
       "    </tr>\n",
       "    <tr>\n",
       "      <th>11</th>\n",
       "      <td>liwc_political</td>\n",
       "      <td>0.43</td>\n",
       "      <td>1.00</td>\n",
       "      <td>1.00</td>\n",
       "    </tr>\n",
       "    <tr>\n",
       "      <th>13</th>\n",
       "      <td>log_repeated_tweet_count</td>\n",
       "      <td>0.74</td>\n",
       "      <td>1.00</td>\n",
       "      <td>1.00</td>\n",
       "    </tr>\n",
       "    <tr>\n",
       "      <th>14</th>\n",
       "      <td>barbera_std</td>\n",
       "      <td>0.20</td>\n",
       "      <td>1.00</td>\n",
       "      <td>1.00</td>\n",
       "    </tr>\n",
       "    <tr>\n",
       "      <th>15</th>\n",
       "      <td>politics_sites1_std</td>\n",
       "      <td>0.22</td>\n",
       "      <td>1.00</td>\n",
       "      <td>1.00</td>\n",
       "    </tr>\n",
       "    <tr>\n",
       "      <th>16</th>\n",
       "      <td>politics_sites2_ideo_std</td>\n",
       "      <td>0.01</td>\n",
       "      <td>0.11</td>\n",
       "      <td>0.05</td>\n",
       "    </tr>\n",
       "  </tbody>\n",
       "</table>\n",
       "</div>"
      ],
      "text/plain": [
       "                   Predictor  P-Value  Bonferroni P-Value  \\\n",
       "0               pc1_politics     0.01                0.20   \n",
       "2                    pc1_fol     0.95                1.00   \n",
       "6                pc1_valence     0.07                1.00   \n",
       "10             moral_outrage     0.62                1.00   \n",
       "11            liwc_political     0.43                1.00   \n",
       "13  log_repeated_tweet_count     0.74                1.00   \n",
       "14               barbera_std     0.20                1.00   \n",
       "15       politics_sites1_std     0.22                1.00   \n",
       "16  politics_sites2_ideo_std     0.01                0.11   \n",
       "\n",
       "    Holm-Bonferroni P-Value  \n",
       "0                      0.09  \n",
       "2                      1.00  \n",
       "6                      0.48  \n",
       "10                     1.00  \n",
       "11                     1.00  \n",
       "13                     1.00  \n",
       "14                     1.00  \n",
       "15                     1.00  \n",
       "16                     0.05  "
      ]
     },
     "execution_count": 208,
     "metadata": {},
     "output_type": "execute_result"
    }
   ],
   "source": [
    "formatted_p_values.loc[formatted_p_values['Holm-Bonferroni P-Value'] >= 0.05]"
   ]
  },
  {
   "cell_type": "markdown",
   "metadata": {},
   "source": [
    "From observing the corrected p-values, it seems that the political orientation does not influence suspension, as the p-values are statifically insignifacant."
   ]
  },
  {
   "cell_type": "code",
   "execution_count": 209,
   "metadata": {},
   "outputs": [
    {
     "data": {
      "text/html": [
       "<div>\n",
       "<style scoped>\n",
       "    .dataframe tbody tr th:only-of-type {\n",
       "        vertical-align: middle;\n",
       "    }\n",
       "\n",
       "    .dataframe tbody tr th {\n",
       "        vertical-align: top;\n",
       "    }\n",
       "\n",
       "    .dataframe thead th {\n",
       "        text-align: right;\n",
       "    }\n",
       "</style>\n",
       "<table border=\"1\" class=\"dataframe\">\n",
       "  <thead>\n",
       "    <tr style=\"text-align: right;\">\n",
       "      <th></th>\n",
       "      <th>Predictor</th>\n",
       "      <th>P-Value</th>\n",
       "      <th>Bonferroni P-Value</th>\n",
       "      <th>Holm-Bonferroni P-Value</th>\n",
       "    </tr>\n",
       "  </thead>\n",
       "  <tbody>\n",
       "    <tr>\n",
       "      <th>1</th>\n",
       "      <td>pc1_misinfo</td>\n",
       "      <td>0.0</td>\n",
       "      <td>0.00</td>\n",
       "      <td>0.00</td>\n",
       "    </tr>\n",
       "    <tr>\n",
       "      <th>3</th>\n",
       "      <td>pc1_harmful_language</td>\n",
       "      <td>0.0</td>\n",
       "      <td>0.00</td>\n",
       "      <td>0.00</td>\n",
       "    </tr>\n",
       "    <tr>\n",
       "      <th>4</th>\n",
       "      <td>pc2_harmful_language</td>\n",
       "      <td>0.0</td>\n",
       "      <td>0.02</td>\n",
       "      <td>0.01</td>\n",
       "    </tr>\n",
       "    <tr>\n",
       "      <th>5</th>\n",
       "      <td>pc3_harmful_language</td>\n",
       "      <td>0.0</td>\n",
       "      <td>0.02</td>\n",
       "      <td>0.01</td>\n",
       "    </tr>\n",
       "    <tr>\n",
       "      <th>7</th>\n",
       "      <td>tweets_in_2wk</td>\n",
       "      <td>0.0</td>\n",
       "      <td>0.00</td>\n",
       "      <td>0.00</td>\n",
       "    </tr>\n",
       "    <tr>\n",
       "      <th>8</th>\n",
       "      <td>botsentinel_score</td>\n",
       "      <td>0.0</td>\n",
       "      <td>0.00</td>\n",
       "      <td>0.00</td>\n",
       "    </tr>\n",
       "    <tr>\n",
       "      <th>9</th>\n",
       "      <td>extremity</td>\n",
       "      <td>0.0</td>\n",
       "      <td>0.00</td>\n",
       "      <td>0.00</td>\n",
       "    </tr>\n",
       "    <tr>\n",
       "      <th>12</th>\n",
       "      <td>log_freq_pr_1h</td>\n",
       "      <td>0.0</td>\n",
       "      <td>0.00</td>\n",
       "      <td>0.00</td>\n",
       "    </tr>\n",
       "  </tbody>\n",
       "</table>\n",
       "</div>"
      ],
      "text/plain": [
       "               Predictor  P-Value  Bonferroni P-Value  Holm-Bonferroni P-Value\n",
       "1            pc1_misinfo      0.0                0.00                     0.00\n",
       "3   pc1_harmful_language      0.0                0.00                     0.00\n",
       "4   pc2_harmful_language      0.0                0.02                     0.01\n",
       "5   pc3_harmful_language      0.0                0.02                     0.01\n",
       "7          tweets_in_2wk      0.0                0.00                     0.00\n",
       "8      botsentinel_score      0.0                0.00                     0.00\n",
       "9              extremity      0.0                0.00                     0.00\n",
       "12        log_freq_pr_1h      0.0                0.00                     0.00"
      ]
     },
     "execution_count": 209,
     "metadata": {},
     "output_type": "execute_result"
    }
   ],
   "source": [
    "formatted_p_values.loc[formatted_p_values['Holm-Bonferroni P-Value'] < 0.05]"
   ]
  },
  {
   "cell_type": "markdown",
   "metadata": {},
   "source": [
    "Instead, predictors without political context are statistically significant according to our model"
   ]
  },
  {
   "cell_type": "markdown",
   "metadata": {},
   "source": [
    "### Regression using logit"
   ]
  },
  {
   "cell_type": "markdown",
   "metadata": {},
   "source": [
    "Moreover, we can do the same analysis using logit regression."
   ]
  },
  {
   "cell_type": "code",
   "execution_count": 210,
   "metadata": {},
   "outputs": [],
   "source": [
    "formula = 'suspended ~ ' + ' + '.join(variables)\n",
    "logit_model = smf.logit(formula, data=regression_data).fit(disp=False)\n",
    "p_values = logit_model.pvalues"
   ]
  },
  {
   "cell_type": "code",
   "execution_count": 211,
   "metadata": {},
   "outputs": [
    {
     "name": "stderr",
     "output_type": "stream",
     "text": [
      "C:\\Users\\karyo\\AppData\\Local\\Temp\\ipykernel_5496\\1553530528.py:5: FutureWarning: Series.__getitem__ treating keys as positions is deprecated. In a future version, integer keys will always be treated as labels (consistent with DataFrame behavior). To access a value by position, use `ser.iloc[pos]`\n",
      "  p_values_for_all_predictors.append([variables[i], p_values[i+1], adjusted_p_values_bonferroni[1][i+1],adjusted_p_values_bonferroni_holm[1][i+1]])\n"
     ]
    }
   ],
   "source": [
    "adjusted_p_values_bonferroni = multipletests(p_values, alpha = 0.05, method = 'bonferroni')\n",
    "adjusted_p_values_bonferroni_holm = multipletests(p_values, alpha = 0.05, method = 'holm')\n",
    "p_values_for_all_predictors = []\n",
    "for i in range(len(variables)):\n",
    "        p_values_for_all_predictors.append([variables[i], p_values[i+1], adjusted_p_values_bonferroni[1][i+1],adjusted_p_values_bonferroni_holm[1][i+1]])\n",
    "p_values_for_all_predictors = pd.DataFrame(p_values_for_all_predictors, columns=['Predictor','P-Value', 'Bonferroni P-Value', 'Holm-Bonferroni P-Value'])"
   ]
  },
  {
   "cell_type": "code",
   "execution_count": 212,
   "metadata": {},
   "outputs": [
    {
     "data": {
      "text/html": [
       "<table class=\"simpletable\">\n",
       "<caption>Logit Regression Results</caption>\n",
       "<tr>\n",
       "  <th>Dep. Variable:</th>       <td>suspended</td>    <th>  No. Observations:  </th>   <td>  9000</td>  \n",
       "</tr>\n",
       "<tr>\n",
       "  <th>Model:</th>                 <td>Logit</td>      <th>  Df Residuals:      </th>   <td>  8982</td>  \n",
       "</tr>\n",
       "<tr>\n",
       "  <th>Method:</th>                 <td>MLE</td>       <th>  Df Model:          </th>   <td>    17</td>  \n",
       "</tr>\n",
       "<tr>\n",
       "  <th>Date:</th>            <td>Fri, 06 Dec 2024</td> <th>  Pseudo R-squ.:     </th>   <td>0.1751</td>  \n",
       "</tr>\n",
       "<tr>\n",
       "  <th>Time:</th>                <td>16:09:07</td>     <th>  Log-Likelihood:    </th>  <td> -2727.3</td> \n",
       "</tr>\n",
       "<tr>\n",
       "  <th>converged:</th>             <td>True</td>       <th>  LL-Null:           </th>  <td> -3306.3</td> \n",
       "</tr>\n",
       "<tr>\n",
       "  <th>Covariance Type:</th>     <td>nonrobust</td>    <th>  LLR p-value:       </th> <td>1.380e-235</td>\n",
       "</tr>\n",
       "</table>\n",
       "<table class=\"simpletable\">\n",
       "<tr>\n",
       "              <td></td>                <th>coef</th>     <th>std err</th>      <th>z</th>      <th>P>|z|</th>  <th>[0.025</th>    <th>0.975]</th>  \n",
       "</tr>\n",
       "<tr>\n",
       "  <th>Intercept</th>                <td>   -2.5393</td> <td>    0.049</td> <td>  -51.800</td> <td> 0.000</td> <td>   -2.635</td> <td>   -2.443</td>\n",
       "</tr>\n",
       "<tr>\n",
       "  <th>pc1_politics</th>             <td>    0.2690</td> <td>    0.100</td> <td>    2.680</td> <td> 0.007</td> <td>    0.072</td> <td>    0.466</td>\n",
       "</tr>\n",
       "<tr>\n",
       "  <th>pc1_misinfo</th>              <td>    0.4692</td> <td>    0.087</td> <td>    5.424</td> <td> 0.000</td> <td>    0.300</td> <td>    0.639</td>\n",
       "</tr>\n",
       "<tr>\n",
       "  <th>pc1_fol</th>                  <td>   -0.0019</td> <td>    0.039</td> <td>   -0.050</td> <td> 0.960</td> <td>   -0.078</td> <td>    0.074</td>\n",
       "</tr>\n",
       "<tr>\n",
       "  <th>pc1_harmful_language</th>     <td>    0.3050</td> <td>    0.048</td> <td>    6.393</td> <td> 0.000</td> <td>    0.212</td> <td>    0.399</td>\n",
       "</tr>\n",
       "<tr>\n",
       "  <th>pc2_harmful_language</th>     <td>    0.1467</td> <td>    0.047</td> <td>    3.147</td> <td> 0.002</td> <td>    0.055</td> <td>    0.238</td>\n",
       "</tr>\n",
       "<tr>\n",
       "  <th>pc3_harmful_language</th>     <td>   -0.1162</td> <td>    0.037</td> <td>   -3.162</td> <td> 0.002</td> <td>   -0.188</td> <td>   -0.044</td>\n",
       "</tr>\n",
       "<tr>\n",
       "  <th>pc1_valence</th>              <td>    0.0700</td> <td>    0.041</td> <td>    1.700</td> <td> 0.089</td> <td>   -0.011</td> <td>    0.151</td>\n",
       "</tr>\n",
       "<tr>\n",
       "  <th>tweets_in_2wk</th>            <td>    0.6133</td> <td>    0.038</td> <td>   16.203</td> <td> 0.000</td> <td>    0.539</td> <td>    0.688</td>\n",
       "</tr>\n",
       "<tr>\n",
       "  <th>botsentinel_score</th>        <td>    0.3502</td> <td>    0.071</td> <td>    4.949</td> <td> 0.000</td> <td>    0.212</td> <td>    0.489</td>\n",
       "</tr>\n",
       "<tr>\n",
       "  <th>extremity</th>                <td>   -0.2457</td> <td>    0.042</td> <td>   -5.850</td> <td> 0.000</td> <td>   -0.328</td> <td>   -0.163</td>\n",
       "</tr>\n",
       "<tr>\n",
       "  <th>moral_outrage</th>            <td>    0.0437</td> <td>    0.063</td> <td>    0.697</td> <td> 0.486</td> <td>   -0.079</td> <td>    0.166</td>\n",
       "</tr>\n",
       "<tr>\n",
       "  <th>liwc_political</th>           <td>   -0.0594</td> <td>    0.053</td> <td>   -1.123</td> <td> 0.261</td> <td>   -0.163</td> <td>    0.044</td>\n",
       "</tr>\n",
       "<tr>\n",
       "  <th>log_freq_pr_1h</th>           <td>    0.2122</td> <td>    0.042</td> <td>    5.020</td> <td> 0.000</td> <td>    0.129</td> <td>    0.295</td>\n",
       "</tr>\n",
       "<tr>\n",
       "  <th>log_repeated_tweet_count</th> <td>   -0.0178</td> <td>    0.042</td> <td>   -0.422</td> <td> 0.673</td> <td>   -0.101</td> <td>    0.065</td>\n",
       "</tr>\n",
       "<tr>\n",
       "  <th>barbera_std</th>              <td>   -0.0591</td> <td>    0.043</td> <td>   -1.371</td> <td> 0.170</td> <td>   -0.144</td> <td>    0.025</td>\n",
       "</tr>\n",
       "<tr>\n",
       "  <th>politics_sites1_std</th>      <td>   -0.0508</td> <td>    0.039</td> <td>   -1.292</td> <td> 0.196</td> <td>   -0.128</td> <td>    0.026</td>\n",
       "</tr>\n",
       "<tr>\n",
       "  <th>politics_sites2_ideo_std</th> <td>    0.1064</td> <td>    0.041</td> <td>    2.602</td> <td> 0.009</td> <td>    0.026</td> <td>    0.187</td>\n",
       "</tr>\n",
       "</table>"
      ],
      "text/latex": [
       "\\begin{center}\n",
       "\\begin{tabular}{lclc}\n",
       "\\toprule\n",
       "\\textbf{Dep. Variable:}              &    suspended     & \\textbf{  No. Observations:  } &     9000    \\\\\n",
       "\\textbf{Model:}                      &      Logit       & \\textbf{  Df Residuals:      } &     8982    \\\\\n",
       "\\textbf{Method:}                     &       MLE        & \\textbf{  Df Model:          } &       17    \\\\\n",
       "\\textbf{Date:}                       & Fri, 06 Dec 2024 & \\textbf{  Pseudo R-squ.:     } &   0.1751    \\\\\n",
       "\\textbf{Time:}                       &     16:09:07     & \\textbf{  Log-Likelihood:    } &   -2727.3   \\\\\n",
       "\\textbf{converged:}                  &       True       & \\textbf{  LL-Null:           } &   -3306.3   \\\\\n",
       "\\textbf{Covariance Type:}            &    nonrobust     & \\textbf{  LLR p-value:       } & 1.380e-235  \\\\\n",
       "\\bottomrule\n",
       "\\end{tabular}\n",
       "\\begin{tabular}{lcccccc}\n",
       "                                     & \\textbf{coef} & \\textbf{std err} & \\textbf{z} & \\textbf{P$> |$z$|$} & \\textbf{[0.025} & \\textbf{0.975]}  \\\\\n",
       "\\midrule\n",
       "\\textbf{Intercept}                   &      -2.5393  &        0.049     &   -51.800  &         0.000        &       -2.635    &       -2.443     \\\\\n",
       "\\textbf{pc1\\_politics}               &       0.2690  &        0.100     &     2.680  &         0.007        &        0.072    &        0.466     \\\\\n",
       "\\textbf{pc1\\_misinfo}                &       0.4692  &        0.087     &     5.424  &         0.000        &        0.300    &        0.639     \\\\\n",
       "\\textbf{pc1\\_fol}                    &      -0.0019  &        0.039     &    -0.050  &         0.960        &       -0.078    &        0.074     \\\\\n",
       "\\textbf{pc1\\_harmful\\_language}      &       0.3050  &        0.048     &     6.393  &         0.000        &        0.212    &        0.399     \\\\\n",
       "\\textbf{pc2\\_harmful\\_language}      &       0.1467  &        0.047     &     3.147  &         0.002        &        0.055    &        0.238     \\\\\n",
       "\\textbf{pc3\\_harmful\\_language}      &      -0.1162  &        0.037     &    -3.162  &         0.002        &       -0.188    &       -0.044     \\\\\n",
       "\\textbf{pc1\\_valence}                &       0.0700  &        0.041     &     1.700  &         0.089        &       -0.011    &        0.151     \\\\\n",
       "\\textbf{tweets\\_in\\_2wk}             &       0.6133  &        0.038     &    16.203  &         0.000        &        0.539    &        0.688     \\\\\n",
       "\\textbf{botsentinel\\_score}          &       0.3502  &        0.071     &     4.949  &         0.000        &        0.212    &        0.489     \\\\\n",
       "\\textbf{extremity}                   &      -0.2457  &        0.042     &    -5.850  &         0.000        &       -0.328    &       -0.163     \\\\\n",
       "\\textbf{moral\\_outrage}              &       0.0437  &        0.063     &     0.697  &         0.486        &       -0.079    &        0.166     \\\\\n",
       "\\textbf{liwc\\_political}             &      -0.0594  &        0.053     &    -1.123  &         0.261        &       -0.163    &        0.044     \\\\\n",
       "\\textbf{log\\_freq\\_pr\\_1h}           &       0.2122  &        0.042     &     5.020  &         0.000        &        0.129    &        0.295     \\\\\n",
       "\\textbf{log\\_repeated\\_tweet\\_count} &      -0.0178  &        0.042     &    -0.422  &         0.673        &       -0.101    &        0.065     \\\\\n",
       "\\textbf{barbera\\_std}                &      -0.0591  &        0.043     &    -1.371  &         0.170        &       -0.144    &        0.025     \\\\\n",
       "\\textbf{politics\\_sites1\\_std}       &      -0.0508  &        0.039     &    -1.292  &         0.196        &       -0.128    &        0.026     \\\\\n",
       "\\textbf{politics\\_sites2\\_ideo\\_std} &       0.1064  &        0.041     &     2.602  &         0.009        &        0.026    &        0.187     \\\\\n",
       "\\bottomrule\n",
       "\\end{tabular}\n",
       "%\\caption{Logit Regression Results}\n",
       "\\end{center}"
      ],
      "text/plain": [
       "<class 'statsmodels.iolib.summary.Summary'>\n",
       "\"\"\"\n",
       "                           Logit Regression Results                           \n",
       "==============================================================================\n",
       "Dep. Variable:              suspended   No. Observations:                 9000\n",
       "Model:                          Logit   Df Residuals:                     8982\n",
       "Method:                           MLE   Df Model:                           17\n",
       "Date:                Fri, 06 Dec 2024   Pseudo R-squ.:                  0.1751\n",
       "Time:                        16:09:07   Log-Likelihood:                -2727.3\n",
       "converged:                       True   LL-Null:                       -3306.3\n",
       "Covariance Type:            nonrobust   LLR p-value:                1.380e-235\n",
       "============================================================================================\n",
       "                               coef    std err          z      P>|z|      [0.025      0.975]\n",
       "--------------------------------------------------------------------------------------------\n",
       "Intercept                   -2.5393      0.049    -51.800      0.000      -2.635      -2.443\n",
       "pc1_politics                 0.2690      0.100      2.680      0.007       0.072       0.466\n",
       "pc1_misinfo                  0.4692      0.087      5.424      0.000       0.300       0.639\n",
       "pc1_fol                     -0.0019      0.039     -0.050      0.960      -0.078       0.074\n",
       "pc1_harmful_language         0.3050      0.048      6.393      0.000       0.212       0.399\n",
       "pc2_harmful_language         0.1467      0.047      3.147      0.002       0.055       0.238\n",
       "pc3_harmful_language        -0.1162      0.037     -3.162      0.002      -0.188      -0.044\n",
       "pc1_valence                  0.0700      0.041      1.700      0.089      -0.011       0.151\n",
       "tweets_in_2wk                0.6133      0.038     16.203      0.000       0.539       0.688\n",
       "botsentinel_score            0.3502      0.071      4.949      0.000       0.212       0.489\n",
       "extremity                   -0.2457      0.042     -5.850      0.000      -0.328      -0.163\n",
       "moral_outrage                0.0437      0.063      0.697      0.486      -0.079       0.166\n",
       "liwc_political              -0.0594      0.053     -1.123      0.261      -0.163       0.044\n",
       "log_freq_pr_1h               0.2122      0.042      5.020      0.000       0.129       0.295\n",
       "log_repeated_tweet_count    -0.0178      0.042     -0.422      0.673      -0.101       0.065\n",
       "barbera_std                 -0.0591      0.043     -1.371      0.170      -0.144       0.025\n",
       "politics_sites1_std         -0.0508      0.039     -1.292      0.196      -0.128       0.026\n",
       "politics_sites2_ideo_std     0.1064      0.041      2.602      0.009       0.026       0.187\n",
       "============================================================================================\n",
       "\"\"\""
      ]
     },
     "execution_count": 212,
     "metadata": {},
     "output_type": "execute_result"
    }
   ],
   "source": [
    "logit_model.summary()"
   ]
  },
  {
   "cell_type": "markdown",
   "metadata": {},
   "source": [
    "Again, the summary shows that the 3 most important predictors are tweets in past two weeks,low quality news sharing and bot score, respectively."
   ]
  },
  {
   "cell_type": "code",
   "execution_count": 213,
   "metadata": {},
   "outputs": [],
   "source": [
    "formatted_p_values_logit = p_values_for_all_predictors.copy()\n",
    "formatted_p_values_logit = formatted_p_values_logit.round(2)"
   ]
  },
  {
   "cell_type": "code",
   "execution_count": 214,
   "metadata": {},
   "outputs": [
    {
     "data": {
      "text/html": [
       "<div>\n",
       "<style scoped>\n",
       "    .dataframe tbody tr th:only-of-type {\n",
       "        vertical-align: middle;\n",
       "    }\n",
       "\n",
       "    .dataframe tbody tr th {\n",
       "        vertical-align: top;\n",
       "    }\n",
       "\n",
       "    .dataframe thead th {\n",
       "        text-align: right;\n",
       "    }\n",
       "</style>\n",
       "<table border=\"1\" class=\"dataframe\">\n",
       "  <thead>\n",
       "    <tr style=\"text-align: right;\">\n",
       "      <th></th>\n",
       "      <th>Predictor</th>\n",
       "      <th>P-Value</th>\n",
       "      <th>Bonferroni P-Value</th>\n",
       "      <th>Holm-Bonferroni P-Value</th>\n",
       "    </tr>\n",
       "  </thead>\n",
       "  <tbody>\n",
       "    <tr>\n",
       "      <th>0</th>\n",
       "      <td>pc1_politics</td>\n",
       "      <td>0.01</td>\n",
       "      <td>0.13</td>\n",
       "      <td>0.07</td>\n",
       "    </tr>\n",
       "    <tr>\n",
       "      <th>2</th>\n",
       "      <td>pc1_fol</td>\n",
       "      <td>0.96</td>\n",
       "      <td>1.00</td>\n",
       "      <td>1.00</td>\n",
       "    </tr>\n",
       "    <tr>\n",
       "      <th>6</th>\n",
       "      <td>pc1_valence</td>\n",
       "      <td>0.09</td>\n",
       "      <td>1.00</td>\n",
       "      <td>0.62</td>\n",
       "    </tr>\n",
       "    <tr>\n",
       "      <th>10</th>\n",
       "      <td>moral_outrage</td>\n",
       "      <td>0.49</td>\n",
       "      <td>1.00</td>\n",
       "      <td>1.00</td>\n",
       "    </tr>\n",
       "    <tr>\n",
       "      <th>11</th>\n",
       "      <td>liwc_political</td>\n",
       "      <td>0.26</td>\n",
       "      <td>1.00</td>\n",
       "      <td>1.00</td>\n",
       "    </tr>\n",
       "    <tr>\n",
       "      <th>13</th>\n",
       "      <td>log_repeated_tweet_count</td>\n",
       "      <td>0.67</td>\n",
       "      <td>1.00</td>\n",
       "      <td>1.00</td>\n",
       "    </tr>\n",
       "    <tr>\n",
       "      <th>14</th>\n",
       "      <td>barbera_std</td>\n",
       "      <td>0.17</td>\n",
       "      <td>1.00</td>\n",
       "      <td>1.00</td>\n",
       "    </tr>\n",
       "    <tr>\n",
       "      <th>15</th>\n",
       "      <td>politics_sites1_std</td>\n",
       "      <td>0.20</td>\n",
       "      <td>1.00</td>\n",
       "      <td>1.00</td>\n",
       "    </tr>\n",
       "    <tr>\n",
       "      <th>16</th>\n",
       "      <td>politics_sites2_ideo_std</td>\n",
       "      <td>0.01</td>\n",
       "      <td>0.17</td>\n",
       "      <td>0.07</td>\n",
       "    </tr>\n",
       "  </tbody>\n",
       "</table>\n",
       "</div>"
      ],
      "text/plain": [
       "                   Predictor  P-Value  Bonferroni P-Value  \\\n",
       "0               pc1_politics     0.01                0.13   \n",
       "2                    pc1_fol     0.96                1.00   \n",
       "6                pc1_valence     0.09                1.00   \n",
       "10             moral_outrage     0.49                1.00   \n",
       "11            liwc_political     0.26                1.00   \n",
       "13  log_repeated_tweet_count     0.67                1.00   \n",
       "14               barbera_std     0.17                1.00   \n",
       "15       politics_sites1_std     0.20                1.00   \n",
       "16  politics_sites2_ideo_std     0.01                0.17   \n",
       "\n",
       "    Holm-Bonferroni P-Value  \n",
       "0                      0.07  \n",
       "2                      1.00  \n",
       "6                      0.62  \n",
       "10                     1.00  \n",
       "11                     1.00  \n",
       "13                     1.00  \n",
       "14                     1.00  \n",
       "15                     1.00  \n",
       "16                     0.07  "
      ]
     },
     "execution_count": 214,
     "metadata": {},
     "output_type": "execute_result"
    }
   ],
   "source": [
    "formatted_p_values_logit.loc[formatted_p_values_logit['Holm-Bonferroni P-Value'] >= 0.05]"
   ]
  },
  {
   "cell_type": "markdown",
   "metadata": {},
   "source": [
    "Probit and logit both result to political orientation being insignificant (corrected p-value > 0.05)."
   ]
  },
  {
   "cell_type": "code",
   "execution_count": 215,
   "metadata": {},
   "outputs": [
    {
     "data": {
      "text/html": [
       "<div>\n",
       "<style scoped>\n",
       "    .dataframe tbody tr th:only-of-type {\n",
       "        vertical-align: middle;\n",
       "    }\n",
       "\n",
       "    .dataframe tbody tr th {\n",
       "        vertical-align: top;\n",
       "    }\n",
       "\n",
       "    .dataframe thead th {\n",
       "        text-align: right;\n",
       "    }\n",
       "</style>\n",
       "<table border=\"1\" class=\"dataframe\">\n",
       "  <thead>\n",
       "    <tr style=\"text-align: right;\">\n",
       "      <th></th>\n",
       "      <th>Predictor</th>\n",
       "      <th>P-Value</th>\n",
       "      <th>Bonferroni P-Value</th>\n",
       "      <th>Holm-Bonferroni P-Value</th>\n",
       "    </tr>\n",
       "  </thead>\n",
       "  <tbody>\n",
       "    <tr>\n",
       "      <th>1</th>\n",
       "      <td>pc1_misinfo</td>\n",
       "      <td>0.0</td>\n",
       "      <td>0.00</td>\n",
       "      <td>0.00</td>\n",
       "    </tr>\n",
       "    <tr>\n",
       "      <th>3</th>\n",
       "      <td>pc1_harmful_language</td>\n",
       "      <td>0.0</td>\n",
       "      <td>0.00</td>\n",
       "      <td>0.00</td>\n",
       "    </tr>\n",
       "    <tr>\n",
       "      <th>4</th>\n",
       "      <td>pc2_harmful_language</td>\n",
       "      <td>0.0</td>\n",
       "      <td>0.03</td>\n",
       "      <td>0.02</td>\n",
       "    </tr>\n",
       "    <tr>\n",
       "      <th>5</th>\n",
       "      <td>pc3_harmful_language</td>\n",
       "      <td>0.0</td>\n",
       "      <td>0.03</td>\n",
       "      <td>0.02</td>\n",
       "    </tr>\n",
       "    <tr>\n",
       "      <th>7</th>\n",
       "      <td>tweets_in_2wk</td>\n",
       "      <td>0.0</td>\n",
       "      <td>0.00</td>\n",
       "      <td>0.00</td>\n",
       "    </tr>\n",
       "    <tr>\n",
       "      <th>8</th>\n",
       "      <td>botsentinel_score</td>\n",
       "      <td>0.0</td>\n",
       "      <td>0.00</td>\n",
       "      <td>0.00</td>\n",
       "    </tr>\n",
       "    <tr>\n",
       "      <th>9</th>\n",
       "      <td>extremity</td>\n",
       "      <td>0.0</td>\n",
       "      <td>0.00</td>\n",
       "      <td>0.00</td>\n",
       "    </tr>\n",
       "    <tr>\n",
       "      <th>12</th>\n",
       "      <td>log_freq_pr_1h</td>\n",
       "      <td>0.0</td>\n",
       "      <td>0.00</td>\n",
       "      <td>0.00</td>\n",
       "    </tr>\n",
       "  </tbody>\n",
       "</table>\n",
       "</div>"
      ],
      "text/plain": [
       "               Predictor  P-Value  Bonferroni P-Value  Holm-Bonferroni P-Value\n",
       "1            pc1_misinfo      0.0                0.00                     0.00\n",
       "3   pc1_harmful_language      0.0                0.00                     0.00\n",
       "4   pc2_harmful_language      0.0                0.03                     0.02\n",
       "5   pc3_harmful_language      0.0                0.03                     0.02\n",
       "7          tweets_in_2wk      0.0                0.00                     0.00\n",
       "8      botsentinel_score      0.0                0.00                     0.00\n",
       "9              extremity      0.0                0.00                     0.00\n",
       "12        log_freq_pr_1h      0.0                0.00                     0.00"
      ]
     },
     "execution_count": 215,
     "metadata": {},
     "output_type": "execute_result"
    }
   ],
   "source": [
    "formatted_p_values_logit.loc[formatted_p_values_logit['Holm-Bonferroni P-Value'] < 0.05]"
   ]
  },
  {
   "cell_type": "markdown",
   "metadata": {},
   "source": [
    "In conclusion, political orientation does not appear to influence suspension, as all these predictors have p-values greater than 0.05. The asymmetry in suspension rates between the two parties can be attributed to partisan disparity, with Republicans being more likely to engage in misinformation sharing and aggressive online behavior. While asymmetries in treatment may initially seem biased, a deeper analysis, progressing from a simple chi-square test to a more robust regression, suggests that factors other than political affiliation play a more significant role."
   ]
  }
 ],
 "metadata": {
  "kernelspec": {
   "display_name": "Python 3",
   "language": "python",
   "name": "python3"
  },
  "language_info": {
   "codemirror_mode": {
    "name": "ipython",
    "version": 3
   },
   "file_extension": ".py",
   "mimetype": "text/x-python",
   "name": "python",
   "nbconvert_exporter": "python",
   "pygments_lexer": "ipython3",
   "version": "3.10.11"
  }
 },
 "nbformat": 4,
 "nbformat_minor": 4
}
